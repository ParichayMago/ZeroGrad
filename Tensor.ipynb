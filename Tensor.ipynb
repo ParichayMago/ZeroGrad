{
 "cells": [
  {
   "cell_type": "markdown",
   "id": "aa911a02-c38a-4e2b-acd5-cfb721625ab7",
   "metadata": {},
   "source": [
    "# "
   ]
  },
  {
   "cell_type": "code",
   "execution_count": 1,
   "id": "8d5b4071-1670-463e-8725-7df256ffaf2c",
   "metadata": {},
   "outputs": [],
   "source": [
    "import math \n",
    "import matplotlib.pyplot as plt"
   ]
  },
  {
   "cell_type": "code",
   "execution_count": 87,
   "id": "ca231d96-487e-4d48-8f83-bcce419e02f1",
   "metadata": {},
   "outputs": [],
   "source": [
    "class Value:\n",
    "    def __init__(self, data, _children=(), op=\"\"):\n",
    "        self.data = data\n",
    "        self._prev = _children\n",
    "        self.op = op\n",
    "        self.grad = 0\n",
    "        self._backward = lambda: None\n",
    "        \n",
    "    def __add__(self, other):\n",
    "        if not isinstance(other, Value): \n",
    "            other = Value(other)\n",
    "        out = Value(self.data + other.data, (self,other), \"+\")\n",
    "\n",
    "        def _backward():\n",
    "            self.grad += 1 * out.grad\n",
    "            other.grad += 1 * out.grad\n",
    "\n",
    "        out._backward = _backward\n",
    "            \n",
    "        return out\n",
    "\n",
    "    def __mul__(self, other):\n",
    "        if not isinstance(other, Value):\n",
    "            other = Value(other)\n",
    "        out = Value(self.data * other.data, (self, other), \"*\")\n",
    "\n",
    "        def _backward():\n",
    "            self.grad += other.data * out.grad \n",
    "            other.grad += self.data * out.grad\n",
    "            \n",
    "        out._backward = _backward\n",
    "        return out\n",
    "\n",
    "    def __sub__(self, other):\n",
    "        return self + (other * -1)\n",
    "\n",
    "    def __truediv__(self, other):\n",
    "        return self * (other**-1.0)\n",
    "    \n",
    "    def __repr__(self):\n",
    "        return f\"Data([{self.data}])\"\n",
    "        \n",
    "    def __rmul__(self, other):\n",
    "        return self * other\n",
    "\n",
    "    def __radd__(self, other):\n",
    "        return self+other\n",
    "\n",
    "    def __rtruediv__(self, other):\n",
    "        return self / other\n",
    "\n",
    "    def __pow__(self, other):\n",
    "        assert isinstance(other, float), \"Only float valeus are allowed for now\"\n",
    "        out = Value(self.data**other, (self,), f\"**{other}\")\n",
    "\n",
    "        def _backward():\n",
    "            self.grad +=  ((other * self.data)**(other-1)) * out.grad \n",
    "        out._backward = _backward\n",
    "        \n",
    "        return out\n",
    "\n",
    "    def exp(self):\n",
    "        result = math.exp(self.data)\n",
    "        out = Value(result, (self,), \"exp\")\n",
    "        \n",
    "        def _backward():\n",
    "            self.grad += result * out.grad\n",
    "\n",
    "        out._backward = _backward\n",
    "        \n",
    "        return out\n",
    "\n",
    "    def log(self):\n",
    "        result =  math.log(self.data)\n",
    "        out = Value(result, (self,), \"log\")\n",
    "\n",
    "        def _backward():\n",
    "            self.grad += (self.data**-1.0) * out.grad \n",
    "        out._backward = _backward()\n",
    "\n",
    "        return out\n",
    "\n",
    "    def tanh(self):\n",
    "        e = math.exp((2 * self.data))\n",
    "        result = (e-1)/(e+1)\n",
    "        out = Value(result, (self,), \"tanh\")\n",
    "\n",
    "        def _backward():\n",
    "           self.grad += (1-(result**2)) * out.grad\n",
    "        out._backward = _backward\n",
    "\n",
    "        return out \n",
    "\n",
    "    def relu(self):\n",
    "        result = max(self.data, 0)\n",
    "        out = Value(result, (self,), \"relu\")\n",
    "        def _backward():\n",
    "            if(self.data>0):\n",
    "                print(f\"{self.data} greater then 0\")\n",
    "                self.grad += 1.0 *out.grad\n",
    "            else:\n",
    "                print(\"something\")\n",
    "                self.grad += 0\n",
    "            # self.grad += 1.0 if self.data>0.1 else 0 * out.grad\n",
    "        out._backward = _backward\n",
    "\n",
    "        return out\n",
    "        \n",
    "    def backward(self):\n",
    "        topo = []\n",
    "        visited = set()\n",
    "        \n",
    "        def build_topo(v):\n",
    "            if v not in visited:\n",
    "                visited.add(v)\n",
    "                for child in v._prev:\n",
    "                    build_topo(child)\n",
    "                topo.append(v)\n",
    "        \n",
    "        build_topo(self)\n",
    "        \n",
    "        self.grad = 1.0\n",
    "        for node in reversed(topo):\n",
    "            node._backward()"
   ]
  },
  {
   "cell_type": "markdown",
   "id": "f488fcd9-f36a-402a-8105-a15209bb5ee8",
   "metadata": {},
   "source": [
    "<p>grad is basically \n",
    "it represent the rate of change wrt to the the variable in a function\n",
    "</p>\n",
    "\n",
    "a = 2\n",
    "\n",
    "f(x) = x**2 + 4\n",
    "\n",
    "a.grad = 4"
   ]
  },
  {
   "cell_type": "code",
   "execution_count": 3,
   "id": "5fdb675e-3e91-4f03-aaaa-0615475b683f",
   "metadata": {},
   "outputs": [],
   "source": [
    "import math\n",
    "import random\n",
    "\n",
    "class Neuron:\n",
    "    def __init__(self, nin):\n",
    "        self.weights = [Value(random.uniform(-1,1)) for _ in range(nin)]\n",
    "        self.bias = Value(random.uniform(-1,1))\n",
    "\n",
    "    def __call__(self, inpts):\n",
    "        out = sum([weight * inpt for weight, inpt in zip(self.weights, inpts)], self.bias)\n",
    "        out = out.tanh()\n",
    "        return out \n",
    "\n",
    "    def parameters(self):\n",
    "        out = self.weights + [self.bias]\n",
    "        return out\n",
    "\n",
    "class Layer:\n",
    "    def __init__(self, nin, nout):\n",
    "        self.neurons = [Neuron(nin) for _ in range(nout)]\n",
    "\n",
    "    def __call__(self, inpt):\n",
    "        out = [neuron(inpt) for neuron in self.neurons]\n",
    "        return out[0] if len(out) == 1 else out\n",
    "\n",
    "    def parameters(self):\n",
    "        out = [p for neuron in self.neurons for p in neuron.parameters()]  \n",
    "        return out\n",
    "\n",
    "class NLP:\n",
    "    def __init__(self, nin, layers):\n",
    "        layers_i = [nin] + layers\n",
    "        self.layers = [Layer(layers_i[i], layers_i[i+1]) for i in range(len(layers))]\n",
    "\n",
    "    def __call__(self, inpts): \n",
    "        x = inpts\n",
    "        for layer in self.layers:\n",
    "            x = layer(x)\n",
    "        return x\n",
    "\n",
    "    def parameters(self):\n",
    "        out = [p for layer in self.layers for p in layer.parameters()]\n",
    "        return out\n",
    "        "
   ]
  },
  {
   "cell_type": "code",
   "execution_count": 12,
   "id": "51b5588c-1a12-463f-a135-296a99aafc4d",
   "metadata": {},
   "outputs": [],
   "source": [
    "inpts = [[3.0,-2.0,1.0], [-1.0, 2.0, -3.0], [-2.0, 1.0, 3.0]]\n",
    "out = [1,-1,1]"
   ]
  },
  {
   "cell_type": "code",
   "execution_count": 13,
   "id": "93cc774e-37e7-4c12-a37c-5601011c8458",
   "metadata": {},
   "outputs": [
    {
     "name": "stdout",
     "output_type": "stream",
     "text": [
      "iter=0:loss=7.371287\n",
      "iter=1:loss=6.852224\n",
      "iter=2:loss=6.321487\n",
      "iter=3:loss=5.794318\n",
      "iter=4:loss=5.284277\n",
      "iter=5:loss=4.803178\n",
      "iter=6:loss=4.361374\n",
      "iter=7:loss=3.966901\n",
      "iter=8:loss=3.624162\n",
      "iter=9:loss=3.333461\n",
      "iter=10:loss=3.091245\n",
      "iter=11:loss=2.890810\n",
      "iter=12:loss=2.723768\n",
      "iter=13:loss=2.581770\n",
      "iter=14:loss=2.457665\n",
      "iter=15:loss=2.345859\n",
      "iter=16:loss=2.242199\n",
      "iter=17:loss=2.143696\n",
      "iter=18:loss=2.048252\n",
      "iter=19:loss=1.954454\n",
      "iter=20:loss=1.861419\n",
      "iter=21:loss=1.768694\n",
      "iter=22:loss=1.676176\n",
      "iter=23:loss=1.584056\n",
      "iter=24:loss=1.492755\n",
      "iter=25:loss=1.402858\n",
      "iter=26:loss=1.315044\n",
      "iter=27:loss=1.230011\n",
      "iter=28:loss=1.148407\n",
      "iter=29:loss=1.070779\n"
     ]
    }
   ],
   "source": [
    "nn = NLP(3, [4, 4, 1])\n",
    "t_loss = []\n",
    "\n",
    "for i in range(30):\n",
    "\n",
    "    for p in nn.parameters():\n",
    "        p.grad = 0\n",
    "    \n",
    "    preds = [nn(inpt) for inpt in inpts]\n",
    "    loss = sum([(pred-real)**2.0 for real, pred in zip(out, preds)])\n",
    "    t_loss.append((i,loss))\n",
    "    \n",
    "    loss.backward()\n",
    "    \n",
    "    # Update parameters\n",
    "    for p in nn.parameters():\n",
    "        p.data += (-0.01 * p.grad)\n",
    "\n",
    "    print(f\"iter={i}:loss={loss.data:.6f}\")"
   ]
  },
  {
   "cell_type": "code",
   "execution_count": 26,
   "id": "75f84a43-c017-4da4-b8b9-4297038f61f1",
   "metadata": {},
   "outputs": [
    {
     "data": {
      "image/png": "[encoded data removed]",
      "text/plain": [
       "<Figure size 640x480 with 1 Axes>"
      ]
     },
     "metadata": {},
     "output_type": "display_data"
    }
   ],
   "source": [
    "plt.figure()\n",
    "plt.xlabel(\"iter\")\n",
    "plt.ylabel(\"loss\")\n",
    "plt.title(\"traing loss\")\n",
    "\n",
    "xs = [x[0] for x in t_loss]\n",
    "ys = [y[1].data for y in t_loss]\n",
    "plt.plot(xs,ys)\n",
    "plt.show()"
   ]
  },
  {
   "cell_type": "code",
   "execution_count": 20,
   "id": "a761deb6-3ff8-426d-96d2-b364db1ed37b",
   "metadata": {},
   "outputs": [
    {
     "data": {
      "image/png": "[encoded data removed]",
      "text/plain": [
       "<Figure size 640x480 with 1 Axes>"
      ]
     },
     "metadata": {},
     "output_type": "display_data"
    }
   ],
   "source": [
    "import random\n",
    "red = [(i+random.uniform(-1, 1), random.uniform(6, 10)) for i in range(6)]\n",
    "blue = [(i+random.uniform(-1, 1), random.uniform(0, 6)) for i in range(6)]\n",
    "\n",
    "rxs = [rx[0] for rx in red]\n",
    "rys =[ry[1] for ry in red]\n",
    "# cr = [0.1 for _ in range(len(red))]\n",
    "\n",
    "bxs = [bx[0] for bx in blue]\n",
    "bys = [yb[1] for yb in blue]\n",
    "# cb = [0.5 for _ in range(len(blue))]\n",
    "\n",
    "area = 50\n",
    "colors = 1\n",
    "\n",
    "plt.scatter(rxs, rys, s=area, c=\"red\", alpha=0.5)\n",
    "plt.scatter(bxs, bys, s=area, c=\"blue\", alpha=0.5)\n",
    "plt.show()"
   ]
  },
  {
   "cell_type": "code",
   "execution_count": 21,
   "id": "b0a45e88-3f09-42d3-a64e-b6ce8608df75",
   "metadata": {},
   "outputs": [
    {
     "data": {
      "text/plain": [
       "[1, 1, 1, 1, 1, 1, -1, -1, -1, -1, -1, -1]"
      ]
     },
     "execution_count": 21,
     "metadata": {},
     "output_type": "execute_result"
    }
   ],
   "source": [
    "train_data = red + blue\n",
    "train_label = [1 if i<6 else -1 for i in range(len(train_data))]  \n",
    "train_label"
   ]
  },
  {
   "cell_type": "code",
   "execution_count": 25,
   "id": "f95892ae-8434-42d1-87a8-a132082a4104",
   "metadata": {},
   "outputs": [
    {
     "name": "stdout",
     "output_type": "stream",
     "text": [
      "iter:0 - loss:22.905861549429144\n",
      "iter:1 - loss:20.917416342008856\n",
      "iter:2 - loss:15.722849620631724\n",
      "iter:3 - loss:11.325436348773545\n",
      "iter:4 - loss:9.671500478581653\n",
      "iter:5 - loss:9.180026173281986\n",
      "iter:6 - loss:8.815614328519787\n",
      "iter:7 - loss:8.5272418787448\n",
      "iter:8 - loss:8.294259824160086\n",
      "iter:9 - loss:8.126678245164385\n",
      "iter:10 - loss:7.989905405460128\n",
      "iter:11 - loss:7.939973417367018\n",
      "iter:12 - loss:7.89853401868142\n",
      "iter:13 - loss:7.95065768434722\n",
      "iter:14 - loss:7.928786798489438\n",
      "iter:15 - loss:8.012942185258067\n",
      "iter:16 - loss:7.794026216024453\n",
      "iter:17 - loss:7.704256642947775\n",
      "iter:18 - loss:7.4526299520296995\n",
      "iter:19 - loss:7.160179307763833\n",
      "iter:20 - loss:6.956569646842878\n",
      "iter:21 - loss:6.395296990367615\n",
      "iter:22 - loss:6.120570853978015\n",
      "iter:23 - loss:5.818615967977624\n",
      "iter:24 - loss:5.555096595004507\n",
      "iter:25 - loss:5.374377494492035\n",
      "iter:26 - loss:5.474689107882748\n",
      "iter:27 - loss:5.56070213311185\n",
      "iter:28 - loss:5.998413251928548\n",
      "iter:29 - loss:5.062462787142868\n",
      "iter:30 - loss:4.878124703379056\n",
      "iter:31 - loss:4.917602168847867\n",
      "iter:32 - loss:5.2114948497743425\n",
      "iter:33 - loss:4.901554246010049\n",
      "iter:34 - loss:5.203920423018275\n",
      "iter:35 - loss:4.7222745513793\n",
      "iter:36 - loss:4.912522425850782\n",
      "iter:37 - loss:4.539106461535246\n",
      "iter:38 - loss:4.629663249151063\n",
      "iter:39 - loss:4.538905786007552\n",
      "iter:40 - loss:4.685221342682863\n",
      "iter:41 - loss:4.807577125061351\n",
      "iter:42 - loss:5.02709254165386\n",
      "iter:43 - loss:4.847125263245356\n",
      "iter:44 - loss:4.988630494273389\n",
      "iter:45 - loss:4.439167147420153\n",
      "iter:46 - loss:4.540591404145961\n",
      "iter:47 - loss:4.715268623720705\n",
      "iter:48 - loss:4.099753671928433\n",
      "iter:49 - loss:4.052791519426594\n"
     ]
    }
   ],
   "source": [
    "model = NLP(2, [8, 8, 1]) \n",
    "t_loss = []\n",
    "for i in range(50):\n",
    "    for p in model.parameters():\n",
    "        p.grad = 0\n",
    "        \n",
    "    preds = [model(i) for i in train_data]\n",
    "    loss = sum([(pred-true)**2.0 for pred, true in zip(preds, train_label)])\n",
    "    t_loss.append((i,loss))\n",
    "    \n",
    "    loss.backward()\n",
    "    \n",
    "    # Update parameters\n",
    "    for p in model.parameters():\n",
    "        p.data += (-0.01 * p.grad)\n",
    "\n",
    "    print(f\"iter:{i} - loss:{loss.data}\")\n",
    "    \n"
   ]
  },
  {
   "cell_type": "code",
   "execution_count": 28,
   "id": "4410bdbc-bc35-450b-bdaa-6947781a681f",
   "metadata": {},
   "outputs": [
    {
     "data": {
      "text/plain": [
       "[Data([0.7746998495370948]),\n",
       " Data([0.7529210644821204]),\n",
       " Data([0.7728240196033034]),\n",
       " Data([0.702745598507801]),\n",
       " Data([0.6776637865500454]),\n",
       " Data([-0.19120848724797038]),\n",
       " Data([-0.8163578561279394]),\n",
       " Data([-0.7063241183744737]),\n",
       " Data([0.3775143907224729]),\n",
       " Data([-0.5016310566042388]),\n",
       " Data([-0.9323233908754163]),\n",
       " Data([-0.912430729608913])]"
      ]
     },
     "execution_count": 28,
     "metadata": {},
     "output_type": "execute_result"
    }
   ],
   "source": [
    "preds"
   ]
  },
  {
   "cell_type": "code",
   "execution_count": 48,
   "id": "3c0d443c-7e24-46c7-8347-b93ce605e96a",
   "metadata": {},
   "outputs": [
    {
     "data": {
      "text/plain": [
       "[[0, 0.0], [1, 0.4]]"
      ]
     },
     "execution_count": 48,
     "metadata": {},
     "output_type": "execute_result"
    }
   ],
   "source": [
    "arr.append([1, 1*0.4])\n",
    "arr"
   ]
  },
  {
   "cell_type": "code",
   "execution_count": 51,
   "id": "976de303-0868-42e2-b479-bffc7a6a3e42",
   "metadata": {},
   "outputs": [
    {
     "data": {
      "text/plain": [
       "[[0, 0.0], [1, 0.4]]"
      ]
     },
     "execution_count": 51,
     "metadata": {},
     "output_type": "execute_result"
    }
   ],
   "source": [
    "arr"
   ]
  },
  {
   "cell_type": "code",
   "execution_count": 60,
   "id": "c7355cf0-0308-4e4c-8c2e-25175eab53fa",
   "metadata": {},
   "outputs": [
    {
     "data": {
      "text/plain": [
       "[0]"
      ]
     },
     "execution_count": 60,
     "metadata": {},
     "output_type": "execute_result"
    }
   ],
   "source": [
    "arr[0][0:1]"
   ]
  },
  {
   "cell_type": "code",
   "execution_count": 68,
   "id": "932a421f-f78e-42e5-9616-c39132c68939",
   "metadata": {},
   "outputs": [],
   "source": [
    "import numpy as np\n",
    "arr = [[np.random.rand()*i, i] for i in np.arange(0,10)]"
   ]
  },
  {
   "cell_type": "code",
   "execution_count": 74,
   "id": "97d8e82e-a7fd-4cf8-ab5a-c0c6ec253d7a",
   "metadata": {},
   "outputs": [
    {
     "data": {
      "text/plain": [
       "[[0.0, 0],\n",
       " [0.13781108290777655, 1],\n",
       " [0.03844029865012688, 2],\n",
       " [1.1331768038783232, 3],\n",
       " [3.22117499177825, 4],\n",
       " [3.494633376257712, 5],\n",
       " [5.890108573428346, 6],\n",
       " [3.563849959749021, 7],\n",
       " [1.8188240152123472, 8],\n",
       " [1.833700413843646, 9]]"
      ]
     },
     "execution_count": 74,
     "metadata": {},
     "output_type": "execute_result"
    }
   ],
   "source": [
    "arr"
   ]
  },
  {
   "cell_type": "code",
   "execution_count": 80,
   "id": "dee1acfd-5e94-4f4f-a459-c9f70edb756a",
   "metadata": {},
   "outputs": [
    {
     "data": {
      "text/plain": [
       "[<matplotlib.lines.Line2D at 0x7c1620090b60>]"
      ]
     },
     "execution_count": 80,
     "metadata": {},
     "output_type": "execute_result"
    },
    {
     "data": {
      "image/png": "[encoded data removed]",
      "text/plain": [
       "<Figure size 640x480 with 1 Axes>"
      ]
     },
     "metadata": {},
     "output_type": "display_data"
    }
   ],
   "source": [
    "t_arr = list(zip(*arr))\n",
    "plt.plot(t_arr[1],t_arr[0])"
   ]
  },
  {
   "cell_type": "code",
   "execution_count": null,
   "id": "67c2cef0-fa22-401a-9d73-1ca1ee3f9cb9",
   "metadata": {},
   "outputs": [],
   "source": []
  }
 ],
 "metadata": {
  "kernelspec": {
   "display_name": "Python 3 (ipykernel)",
   "language": "python",
   "name": "python3"
  },
  "language_info": {
   "codemirror_mode": {
    "name": "ipython",
    "version": 3
   },
   "file_extension": ".py",
   "mimetype": "text/x-python",
   "name": "python",
   "nbconvert_exporter": "python",
   "pygments_lexer": "ipython3",
   "version": "3.12.3"
  }
 },
 "nbformat": 4,
 "nbformat_minor": 5
}
