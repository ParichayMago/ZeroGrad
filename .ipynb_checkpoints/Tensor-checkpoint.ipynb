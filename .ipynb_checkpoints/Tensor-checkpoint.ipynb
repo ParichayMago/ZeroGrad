{
 "cells": [
  {
   "cell_type": "code",
   "execution_count": 412,
   "id": "8d5b4071-1670-463e-8725-7df256ffaf2c",
   "metadata": {},
   "outputs": [],
   "source": [
    "import math \n",
    "import matplotlib.pyplot as plt"
   ]
  },
  {
   "cell_type": "code",
   "execution_count": 397,
   "id": "ca231d96-487e-4d48-8f83-bcce419e02f1",
   "metadata": {},
   "outputs": [],
   "source": [
    "class Value:\n",
    "    def __init__(self, data, _children=(), op=\"\"):\n",
    "        self.data = data\n",
    "        self._prev = _children\n",
    "        self.op = op\n",
    "        self.grad = 0\n",
    "        self._backward = lambda: None\n",
    "        \n",
    "    def __add__(self, other):\n",
    "        if not isinstance(other, Value): \n",
    "            other = Value(other)\n",
    "        out = Value(self.data + other.data, (self,other), \"+\")\n",
    "\n",
    "        def _backward():\n",
    "            self.grad += 1 * out.grad\n",
    "            other.grad += 1 * out.grad\n",
    "\n",
    "        out._backward = _backward\n",
    "            \n",
    "        return out\n",
    "\n",
    "    def __mul__(self, other):\n",
    "        if not isinstance(other, Value):\n",
    "            other = Value(other)\n",
    "        out = Value(self.data * other.data, (self, other), \"*\")\n",
    "\n",
    "        def _backward():\n",
    "            self.grad += other.data * out.grad \n",
    "            other.grad += self.data * out.grad\n",
    "            \n",
    "        out._backward = _backward\n",
    "        return out\n",
    "\n",
    "    def __sub__(self, other):\n",
    "        return self + (other * -1)\n",
    "\n",
    "    def __truediv__(self, other):\n",
    "        return self * (other**-1.0)\n",
    "    \n",
    "    def __repr__(self):\n",
    "        return f\"Data([{self.data}])\"\n",
    "        \n",
    "    def __rmul__(self, other):\n",
    "        return self * other\n",
    "\n",
    "    def __radd__(self, other):\n",
    "        return self+other\n",
    "\n",
    "    def __rtruediv__(self, other):\n",
    "        return self / other\n",
    "\n",
    "    def __pow__(self, other):\n",
    "        assert isinstance(other, float), \"Only float valeus are allowed for now\"\n",
    "        out = Value(self.data**other, (self,), f\"**{other}\")\n",
    "\n",
    "        def _backward():\n",
    "            self.grad +=  ((other * self.data)**(other-1)) * out.grad \n",
    "        out._backward = _backward\n",
    "        \n",
    "        return out\n",
    "\n",
    "    def exp(self):\n",
    "        result = math.exp(self.data)\n",
    "        out = Value(result, (self,), \"exp\")\n",
    "        \n",
    "        def _backward():\n",
    "            self.grad += result * out.grad\n",
    "\n",
    "        out._backward = _backward\n",
    "        \n",
    "        return out\n",
    "\n",
    "    def tanh(self):\n",
    "        e = math.exp((2 * self.data))\n",
    "        result = (e-1)/(e+1)\n",
    "        out = Value(result, (self,), \"tanh\")\n",
    "\n",
    "        def _backward():\n",
    "           self.grad += (1-(result**2)) * out.grad\n",
    "        out._backward = _backward\n",
    "\n",
    "        return out \n",
    "\n",
    "    def relu(self):\n",
    "        result = max(self.data, 0)\n",
    "        out = Value(result, (self,), \"relu\")\n",
    "        def _backward():\n",
    "            if(self.data>0):\n",
    "                print(f\"{self.data} greater then 0\")\n",
    "                self.grad += 1.0 *out.grad\n",
    "            else:\n",
    "                print(\"something\")\n",
    "                self.grad += 0\n",
    "            # self.grad += 1.0 if self.data>0.1 else 0 * out.grad\n",
    "        out._backward = _backward\n",
    "\n",
    "        return out\n",
    "        \n",
    "    def backward(self):\n",
    "        topo = []\n",
    "        visited = set()\n",
    "        \n",
    "        def build_topo(v):\n",
    "            if v not in visited:\n",
    "                visited.add(v)\n",
    "                for child in v._prev:\n",
    "                    build_topo(child)\n",
    "                topo.append(v)\n",
    "        \n",
    "        build_topo(self)\n",
    "        \n",
    "        self.grad = 1.0\n",
    "        for node in reversed(topo):\n",
    "            node._backward()"
   ]
  },
  {
   "cell_type": "markdown",
   "id": "f488fcd9-f36a-402a-8105-a15209bb5ee8",
   "metadata": {},
   "source": [
    "<p>grad is basically \n",
    "it represent the rate of change wrt to the the variable in a function\n",
    "</p>\n",
    "\n",
    "a = 2\n",
    "\n",
    "f(x) = x**2 + 4\n",
    "\n",
    "a.grad = 4"
   ]
  },
  {
   "cell_type": "code",
   "execution_count": 325,
   "id": "5fdb675e-3e91-4f03-aaaa-0615475b683f",
   "metadata": {},
   "outputs": [],
   "source": [
    "import math\n",
    "import random\n",
    "\n",
    "class Neuron:\n",
    "    def __init__(self, nin):\n",
    "        self.weights = [Value(random.uniform(-1,1)) for _ in range(nin)]\n",
    "        self.bias = Value(random.uniform(-1,1))\n",
    "\n",
    "    def __call__(self, inpts):\n",
    "        out = sum([weight * inpt for weight, inpt in zip(self.weights, inpts)], self.bias)\n",
    "        out = out.tanh()\n",
    "        return out \n",
    "\n",
    "    def parameters(self):\n",
    "        out = self.weights + [self.bias]\n",
    "        return out\n",
    "\n",
    "class Layer:\n",
    "    def __init__(self, nin, nout):\n",
    "        self.neurons = [Neuron(nin) for _ in range(nout)]\n",
    "\n",
    "    def __call__(self, inpt):\n",
    "        out = [neuron(inpt) for neuron in self.neurons]\n",
    "        return out[0] if len(out) == 1 else out\n",
    "\n",
    "    def parameters(self):\n",
    "        out = [p for neuron in self.neurons for p in neuron.parameters()]  \n",
    "        return out\n",
    "\n",
    "class NLP:\n",
    "    def __init__(self, nin, layers):\n",
    "        layers_i = [nin] + layers\n",
    "        self.layers = [Layer(layers_i[i], layers_i[i+1]) for i in range(len(layers))]\n",
    "\n",
    "    def __call__(self, inpts): \n",
    "        x = inpts\n",
    "        for layer in self.layers:\n",
    "            x = layer(x)\n",
    "        return x\n",
    "\n",
    "    def parameters(self):\n",
    "        out = [p for layer in self.layers for p in layer.parameters()]\n",
    "        return out\n",
    "        \n"
   ]
  },
  {
   "cell_type": "code",
   "execution_count": 326,
   "id": "51b5588c-1a12-463f-a135-296a99aafc4d",
   "metadata": {},
   "outputs": [],
   "source": [
    "inpts = [[3.0,-2.0,1.0], [-1.0, 2.0, -3.0], [-2.0, 1.0, 3.0]]\n",
    "out = [1,-1,1]"
   ]
  },
  {
   "cell_type": "code",
   "execution_count": 426,
   "id": "93cc774e-37e7-4c12-a37c-5601011c8458",
   "metadata": {},
   "outputs": [
    {
     "name": "stdout",
     "output_type": "stream",
     "text": [
      "iter=0:loss=4.226932\n",
      "iter=1:loss=3.883750\n",
      "iter=2:loss=3.594882\n",
      "iter=3:loss=3.343802\n",
      "iter=4:loss=3.108959\n",
      "iter=5:loss=2.873575\n",
      "iter=6:loss=2.628584\n",
      "iter=7:loss=2.373402\n",
      "iter=8:loss=2.115251\n",
      "iter=9:loss=1.865850\n",
      "iter=10:loss=1.636178\n",
      "iter=11:loss=1.432599\n",
      "iter=12:loss=1.256483\n",
      "iter=13:loss=1.106044\n",
      "iter=14:loss=0.978222\n",
      "iter=15:loss=0.869740\n",
      "iter=16:loss=0.777550\n",
      "iter=17:loss=0.698974\n",
      "iter=18:loss=0.631733\n",
      "iter=19:loss=0.573917\n",
      "iter=20:loss=0.523949\n",
      "iter=21:loss=0.480534\n",
      "iter=22:loss=0.442610\n",
      "iter=23:loss=0.409309\n",
      "iter=24:loss=0.379918\n",
      "iter=25:loss=0.353852\n",
      "iter=26:loss=0.330627\n",
      "iter=27:loss=0.309843\n",
      "iter=28:loss=0.291165\n",
      "iter=29:loss=0.274314\n"
     ]
    }
   ],
   "source": [
    "nn = NLP(3, [4, 4, 1])\n",
    "t_loss = []\n",
    "\n",
    "for i in range(30):\n",
    "\n",
    "    for p in nn.parameters():\n",
    "        p.grad = 0\n",
    "    \n",
    "    preds = [nn(inpt) for inpt in inpts]\n",
    "    loss = sum([(pred-real)**2.0 for real, pred in zip(out, preds)])\n",
    "    t_loss.append((i,loss))\n",
    "    \n",
    "    loss.backward()\n",
    "    \n",
    "    # Update parameters\n",
    "    for p in nn.parameters():\n",
    "        p.data += (-0.01 * p.grad)\n",
    "\n",
    "    print(f\"iter={i}:loss={loss.data:.6f}\")"
   ]
  },
  {
   "cell_type": "code",
   "execution_count": 429,
   "id": "75f84a43-c017-4da4-b8b9-4297038f61f1",
   "metadata": {},
   "outputs": [
    {
     "data": {
      "image/png": "[encoded data removed]",
      "text/plain": [
       "<Figure size 640x480 with 1 Axes>"
      ]
     },
     "metadata": {},
     "output_type": "display_data"
    }
   ],
   "source": [
    "plt.figure()\n",
    "plt.xlabel(\"iter\")\n",
    "plt.ylabel(\"loss\")\n",
    "plt.title(\"traing loss\")\n",
    "\n",
    "xs = [x[0] for x in t_loss]\n",
    "ys = [y[1].data for y in t_loss]\n",
    "plt.plot(xs,ys)\n",
    "plt.show()"
   ]
  },
  {
   "cell_type": "code",
   "execution_count": 448,
   "id": "a761deb6-3ff8-426d-96d2-b364db1ed37b",
   "metadata": {},
   "outputs": [],
   "source": [
    "red = [(i+random.uniform(-1, 1), random.uniform(6, 10)) for i in range(6)]\n",
    "blue = [(i+random.uniform(-1, 1), random.uniform(0, 6)) for i in range(6)]\n",
    "\n",
    "# plt.scatter()"
   ]
  },
  {
   "cell_type": "code",
   "execution_count": 434,
   "id": "c000e965-559a-4f19-9e20-83d70bf8da40",
   "metadata": {},
   "outputs": [
    {
     "data": {
      "text/plain": [
       "6"
      ]
     },
     "execution_count": 434,
     "metadata": {},
     "output_type": "execute_result"
    }
   ],
   "source": [
    "int(random.uniform(0, 10))"
   ]
  },
  {
   "cell_type": "code",
   "execution_count": 451,
   "id": "3a5d895e-d64d-4844-9610-e8beb980c579",
   "metadata": {},
   "outputs": [
    {
     "data": {
      "text/plain": [
       "[(0.04887452203888243, 8.589773951351653),\n",
       " (1.6393854421750376, 9.412280096936605),\n",
       " (2.3365313866468744, 9.928421436733148),\n",
       " (3.899429434444564, 9.15869688156445),\n",
       " (3.3663314731388727, 9.834574914755333),\n",
       " (5.601312972478933, 8.22174524618531)]"
      ]
     },
     "execution_count": 451,
     "metadata": {},
     "output_type": "execute_result"
    }
   ],
   "source": [
    "red"
   ]
  },
  {
   "cell_type": "code",
   "execution_count": 450,
   "id": "e34e9908-38e2-4117-87c4-d4f5a3b16593",
   "metadata": {},
   "outputs": [],
   "source": [
    "area = 7.5"
   ]
  },
  {
   "cell_type": "code",
   "execution_count": null,
   "id": "e5097a86-7cf5-44c2-85b5-2149d34978c9",
   "metadata": {},
   "outputs": [],
   "source": []
  }
 ],
 "metadata": {
  "kernelspec": {
   "display_name": "Python 3 (ipykernel)",
   "language": "python",
   "name": "python3"
  },
  "language_info": {
   "codemirror_mode": {
    "name": "ipython",
    "version": 3
   },
   "file_extension": ".py",
   "mimetype": "text/x-python",
   "name": "python",
   "nbconvert_exporter": "python",
   "pygments_lexer": "ipython3",
   "version": "3.12.3"
  }
 },
 "nbformat": 4,
 "nbformat_minor": 5
}
