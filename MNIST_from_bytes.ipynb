{
  "nbformat": 4,
  "nbformat_minor": 0,
  "metadata": {
    "colab": {
      "provenance": [],
      "authorship_tag": "ABX9TyOs+fRcJ30kbYjcBTSqxJGY",
      "include_colab_link": true
    },
    "kernelspec": {
      "name": "python3",
      "display_name": "Python 3"
    },
    "language_info": {
      "name": "python"
    }
  },
  "cells": [
    {
      "cell_type": "markdown",
      "metadata": {
        "id": "view-in-github",
        "colab_type": "text"
      },
      "source": [
        "<a href=\"https://colab.research.google.com/github/ParichayMago/ZeroGrad/blob/master/MNIST_from_bytes.ipynb\" target=\"_parent\"><img src=\"https://colab.research.google.com/assets/colab-badge.svg\" alt=\"Open In Colab\"/></a>"
      ]
    },
    {
      "cell_type": "code",
      "execution_count": 1,
      "metadata": {
        "id": "bElYhagSMK9N"
      },
      "outputs": [],
      "source": [
        "%matplotlib inline\n",
        "from matplotlib import pyplot as plt\n",
        "import math\n",
        "# from torchvision.datasets import MNIST"
      ]
    },
    {
      "cell_type": "code",
      "source": [
        "# mnist_data = MNIST(root='data', download=True)\n",
        "# mnist_data"
      ],
      "metadata": {
        "colab": {
          "base_uri": "https://localhost:8080/"
        },
        "id": "MF5SbZRnMbLI",
        "outputId": "c7b92501-16c6-4c8c-a3f2-c2f116437689"
      },
      "execution_count": 2,
      "outputs": [
        {
          "output_type": "stream",
          "name": "stderr",
          "text": [
            "100%|██████████| 9.91M/9.91M [00:00<00:00, 57.3MB/s]\n",
            "100%|██████████| 28.9k/28.9k [00:00<00:00, 1.65MB/s]\n",
            "100%|██████████| 1.65M/1.65M [00:00<00:00, 14.6MB/s]\n",
            "100%|██████████| 4.54k/4.54k [00:00<00:00, 5.02MB/s]\n"
          ]
        },
        {
          "output_type": "execute_result",
          "data": {
            "text/plain": [
              "Dataset MNIST\n",
              "    Number of datapoints: 60000\n",
              "    Root location: data\n",
              "    Split: Train"
            ]
          },
          "metadata": {},
          "execution_count": 2
        }
      ]
    },
    {
      "cell_type": "code",
      "source": [
        "data_path = \"./data/MNIST/raw/\"\n",
        "file_n = [\"t10k-images-idx3-ubyte\",\"t10k-labels-idx1-ubyte\",\"train-images-idx3-ubyte\",\"train-labels-idx1-ubyte\"]\n",
        "file_n"
      ],
      "metadata": {
        "colab": {
          "base_uri": "https://localhost:8080/"
        },
        "id": "ucZZCOzIM5LL",
        "outputId": "1e13448c-b624-46e9-eba4-f34f1031d0ba"
      },
      "execution_count": 3,
      "outputs": [
        {
          "output_type": "execute_result",
          "data": {
            "text/plain": [
              "['t10k-images-idx3-ubyte',\n",
              " 't10k-labels-idx1-ubyte',\n",
              " 'train-images-idx3-ubyte',\n",
              " 'train-labels-idx1-ubyte']"
            ]
          },
          "metadata": {},
          "execution_count": 3
        }
      ]
    },
    {
      "cell_type": "code",
      "source": [
        "# train path\n",
        "x_train_r = data_path + file_n[2]\n",
        "\n",
        "with open(x_train_r, \"rb\") as f:\n",
        "  f_bytes = f.read()\n",
        "x_bytes = f_bytes[16:]\n",
        "\n",
        "# normalizing here\n",
        "x_norm = [i/255 for i in x_bytes]\n",
        "\n",
        "\n",
        "# train label path\n",
        "labels_p = data_path + file_n[3]\n",
        "\n",
        "with open(labels_p, \"rb\") as fl:\n",
        "    l_bytes = fl.read()\n",
        "labels = l_bytes[8:]\n"
      ],
      "metadata": {
        "id": "Yit2OjDRNQ9e"
      },
      "execution_count": 4,
      "outputs": []
    },
    {
      "cell_type": "code",
      "source": [
        "x_test_r = data_path + file_n[0] # test tensor path\n",
        "y_test_r = data_path + file_n[1] # test label path\n",
        "y_test_r, x_test_r"
      ],
      "metadata": {
        "colab": {
          "base_uri": "https://localhost:8080/"
        },
        "id": "Ve3nfOQ7eC5d",
        "outputId": "32be0374-cd0e-4750-de29-c44e6d8ff635"
      },
      "execution_count": 11,
      "outputs": [
        {
          "output_type": "execute_result",
          "data": {
            "text/plain": [
              "('./data/MNIST/raw/t10k-labels-idx1-ubyte',\n",
              " './data/MNIST/raw/t10k-images-idx3-ubyte')"
            ]
          },
          "metadata": {},
          "execution_count": 11
        }
      ]
    },
    {
      "cell_type": "code",
      "source": [
        "# test tensors\n",
        "with open(x_test_r, \"rb\") as f:\n",
        "  x_test_b = f.read()\n",
        "\n",
        "x_test_= x_test_b[16:]\n",
        "x_test = [i/255 for i in x_test_]\n",
        "\n",
        "# test labels\n",
        "with open(y_test_r, \"rb\") as f:\n",
        "  y_test_b = f.read()\n",
        "\n",
        "y_test = y_test_b[8:]"
      ],
      "metadata": {
        "id": "sdbnGeknJwCu"
      },
      "execution_count": 6,
      "outputs": []
    },
    {
      "cell_type": "code",
      "source": [
        "\n",
        "img_10 = [[list(x_norm[(i*28)+(j*784):(i*28)+(j*784)+28]) for i in range(28)] for j in range(10)]\n",
        "plt.imshow(img_10[2]);"
      ],
      "metadata": {
        "colab": {
          "base_uri": "https://localhost:8080/",
          "height": 430
        },
        "id": "ao21ypyJNwHP",
        "outputId": "a5216a28-5b7f-42fb-fdd3-21b2002051e4"
      },
      "execution_count": null,
      "outputs": [
        {
          "output_type": "display_data",
          "data": {
            "text/plain": [
              "<Figure size 640x480 with 1 Axes>"
            ],
            "image/png": "[encoded data removed]"
          },
          "metadata": {}
        }
      ]
    },
    {
      "cell_type": "code",
      "source": [
        "import math\n",
        "import random\n",
        "\n",
        "class Neuron:\n",
        "    def __init__(self, nin, final):\n",
        "        self.weights = [Value(random.uniform(-1,1)) for _ in range(nin)]\n",
        "        self.bias = Value(random.uniform(-1,1))\n",
        "        self.final = final\n",
        "\n",
        "    def __call__(self, inpts):\n",
        "        out = sum([weight * inpt for weight, inpt in zip(self.weights, inpts)], self.bias)\n",
        "        if not self.final:\n",
        "            out = out.tanh()\n",
        "        return out\n",
        "\n",
        "    def parameters(self):\n",
        "        out = self.weights + [self.bias]\n",
        "        return out\n",
        "\n",
        "class Layer:\n",
        "    def __init__(self, nin, nout, final):\n",
        "        self.neurons = [Neuron(nin, final) for _ in range(nout)]\n",
        "\n",
        "    def __call__(self, inpt):\n",
        "        out = [neuron(inpt) for neuron in self.neurons]\n",
        "        return out[0] if len(out) == 1 else out\n",
        "\n",
        "    def parameters(self):\n",
        "        out = [p for neuron in self.neurons for p in neuron.parameters()]\n",
        "        return out\n",
        "\n",
        "class NLP:\n",
        "    def __init__(self, nin, layers):\n",
        "        layers_i = [nin] + layers\n",
        "        self.layers = [Layer(layers_i[i], layers_i[i+1], False) if i != len(layers)-1 else Layer(layers_i[i], layers_i[i+1], True) for i in range(len(layers))]\n",
        "\n",
        "    def __call__(self, inpts):\n",
        "        x = inpts\n",
        "        for layer in self.layers:\n",
        "            x = layer(x)\n",
        "        return x\n",
        "\n",
        "    def parameters(self):\n",
        "        out = [p for layer in self.layers for p in layer.parameters()]\n",
        "        return out"
      ],
      "metadata": {
        "id": "tOITq3G7Qvx9"
      },
      "execution_count": 7,
      "outputs": []
    },
    {
      "cell_type": "code",
      "source": [
        "import math\n",
        "\n",
        "class Value:\n",
        "    def __init__(self, data, _children=(), op=\"\"):\n",
        "        self.data = data\n",
        "        self._prev = _children\n",
        "        self.op = op\n",
        "        self.grad = 0\n",
        "        self._backward = lambda: None\n",
        "\n",
        "    def __add__(self, other):\n",
        "        if not isinstance(other, Value):\n",
        "            other = Value(other)\n",
        "        out = Value(self.data + other.data, (self,other), \"+\")\n",
        "\n",
        "        def _backward():\n",
        "            self.grad += 1 * out.grad\n",
        "            other.grad += 1 * out.grad\n",
        "\n",
        "        out._backward = _backward\n",
        "\n",
        "        return out\n",
        "\n",
        "    def __mul__(self, other):\n",
        "        if not isinstance(other, Value):\n",
        "            other = Value(other)\n",
        "        out = Value(self.data * other.data, (self, other), \"*\")\n",
        "\n",
        "        def _backward():\n",
        "            self.grad += other.data * out.grad\n",
        "            other.grad += self.data * out.grad\n",
        "\n",
        "        out._backward = _backward\n",
        "        return out\n",
        "\n",
        "    def __sub__(self, other):\n",
        "        return self + (other * -1)\n",
        "\n",
        "    def __truediv__(self, other):\n",
        "        return self * (other**-1.0)\n",
        "\n",
        "    def __repr__(self):\n",
        "        return f\"Data([{self.data}])\"\n",
        "\n",
        "    def __rmul__(self, other):\n",
        "        return self * other\n",
        "\n",
        "    def __radd__(self, other):\n",
        "        return self+other\n",
        "\n",
        "    def __rtruediv__(self, other):\n",
        "        return self / other\n",
        "\n",
        "    def __pow__(self, other):\n",
        "        assert isinstance(other, float), \"Only float valeus are allowed for now\"\n",
        "        out = Value(self.data**other, (self,), f\"**{other}\")\n",
        "\n",
        "        def _backward():\n",
        "            self.grad +=  (other * (self.data**(other-1))) * out.grad\n",
        "        out._backward = _backward\n",
        "\n",
        "        return out\n",
        "\n",
        "    def exp(self):\n",
        "        result = math.exp(self.data)\n",
        "        out = Value(result, (self,), \"exp\")\n",
        "\n",
        "        def _backward():\n",
        "            self.grad += result * out.grad\n",
        "\n",
        "        out._backward = _backward\n",
        "\n",
        "        return out\n",
        "\n",
        "    def log(self):\n",
        "        result =  math.log(self.data)\n",
        "        out = Value(result, (self,), \"log\")\n",
        "\n",
        "        def _backward():\n",
        "            self.grad += (self.data**-1.0) * out.grad\n",
        "        out._backward = _backward\n",
        "\n",
        "        return out\n",
        "\n",
        "    def tanh(self):\n",
        "        e = math.exp((2 * self.data))\n",
        "        result = (e-1)/(e+1)\n",
        "        out = Value(result, (self,), \"tanh\")\n",
        "\n",
        "        def _backward():\n",
        "           self.grad += (1-(result**2)) * out.grad\n",
        "        out._backward = _backward\n",
        "\n",
        "        return out\n",
        "\n",
        "    def relu(self):\n",
        "        result = max(self.data, 0)\n",
        "        out = Value(result, (self,), \"relu\")\n",
        "        def _backward():\n",
        "            if(self.data>0):\n",
        "                self.grad += 1.0 *out.grad\n",
        "            else:\n",
        "                self.grad += 0\n",
        "            # self.grad += 1.0 if self.data>0.1 else 0 * out.grad\n",
        "        out._backward = _backward\n",
        "\n",
        "        return out\n",
        "\n",
        "    def backward(self):\n",
        "        topo = []\n",
        "        visited = set()\n",
        "\n",
        "        def build_topo(v):\n",
        "            if v not in visited:\n",
        "                visited.add(v)\n",
        "                for child in v._prev:\n",
        "                    build_topo(child)\n",
        "                topo.append(v)\n",
        "\n",
        "        build_topo(self)\n",
        "\n",
        "        self.grad = 1.0\n",
        "        for node in reversed(topo):\n",
        "            node._backward()\n"
      ],
      "metadata": {
        "id": "zmodh-eDD8pE"
      },
      "execution_count": 8,
      "outputs": []
    },
    {
      "cell_type": "code",
      "source": [
        "fiv_tensor = [x_norm[i*784:(i+1)*784] for i in range(500) if labels[i] < 5]\n",
        "fiv_label = [labels[i] for i in range(500) if labels[i] < 5]\n",
        "\n",
        "fiv_tensor_test = [x_test[i*784:(i+1)*784] for i in range(50) if y_test[i] < 5]\n",
        "fiv_label_test =  [y_test[i] for i in range(50) if y_test[i] < 5]"
      ],
      "metadata": {
        "id": "nWXyGRbiQx_D"
      },
      "execution_count": null,
      "outputs": []
    },
    {
      "cell_type": "code",
      "source": [
        "nn_five = NLP(784, [32, 5])\n",
        "t_loss = []"
      ],
      "metadata": {
        "id": "NTyPdPK7RchJ"
      },
      "execution_count": null,
      "outputs": []
    },
    {
      "cell_type": "code",
      "source": [
        "for iter in range(5):\n",
        "    total_train_loss = 0\n",
        "\n",
        "    for start in range(int(len(fiv_tensor)//10)):\n",
        "      # forward prop\n",
        "        preds_batch = [nn_five(tensor) for tensor in fiv_tensor[start*10:10+(start*10)]]\n",
        "\n",
        "        # softmaxing\n",
        "        sft_preds_batch = []\n",
        "        for preds in preds_batch:\n",
        "            exp = [i.exp() for i in preds]\n",
        "            sexp = sum(exp)\n",
        "            sft_preds = [ex/sexp for ex in exp]\n",
        "            sft_preds_batch.append(sft_preds)\n",
        "\n",
        "        preds_vals = [sft_preds[lab] for sft_preds, lab in zip(sft_preds_batch, fiv_label[start*10:(start*10)+10])]\n",
        "        loss = sum([p_val.log() * -1 for p_val in preds_vals])\n",
        "        total_train_loss += loss.data\n",
        "\n",
        "        # grad-decent\n",
        "        for p in nn_five.parameters():\n",
        "            p.grad = 0\n",
        "\n",
        "        loss.backward()\n",
        "\n",
        "        for p in nn_five.parameters():\n",
        "            p.data = p.data - (0.001 * p.grad)\n",
        "\n",
        "        print(f\"iter: {iter}, batch:{start}, loss: {loss.data}\")\n",
        "\n",
        "    # validation testing\n",
        "    val_preds = [nn_five(test_tensor) for test_tensor in fiv_tensor_test]\n",
        "\n",
        "    val_sft_preds = []\n",
        "    for preds in val_preds:\n",
        "        exp = [i.exp() for i in preds]\n",
        "        sexp = sum(exp)\n",
        "        sft_preds = [ex/sexp for ex in exp]\n",
        "        val_sft_preds.append(sft_preds)\n",
        "\n",
        "    val_preds_vals = [sft_preds[lab] for sft_preds, lab in zip(val_sft_preds, fiv_label_test)]\n",
        "    val_loss = sum([p_val.log() * -1 for p_val in val_preds_vals])\n",
        "\n",
        "    print(f\"### trian loss: {total_train_loss}, validation loss: {val_loss.data} ###\")\n",
        "    t_loss.append([total_train_loss, val_loss.data])"
      ],
      "metadata": {
        "colab": {
          "base_uri": "https://localhost:8080/"
        },
        "id": "9PzDhqAYRmLg",
        "outputId": "6703a4d8-60de-401c-b008-79dd6f119687"
      },
      "execution_count": null,
      "outputs": [
        {
          "output_type": "stream",
          "name": "stdout",
          "text": [
            "iter: 0, batch:0, loss: 37.63408489522344\n",
            "iter: 0, batch:1, loss: 34.74761313601086\n",
            "iter: 0, batch:2, loss: 31.926346245675553\n",
            "iter: 0, batch:3, loss: 33.47926777740567\n",
            "iter: 0, batch:4, loss: 20.324613873019562\n",
            "iter: 0, batch:5, loss: 33.60179299619646\n",
            "iter: 0, batch:6, loss: 29.676049944572355\n",
            "iter: 0, batch:7, loss: 42.77163300434228\n",
            "iter: 0, batch:8, loss: 40.482621620563926\n",
            "iter: 0, batch:9, loss: 31.14155919730802\n",
            "iter: 0, batch:10, loss: 36.08825691455426\n",
            "iter: 0, batch:11, loss: 14.051883682993747\n",
            "iter: 0, batch:12, loss: 28.07938886078106\n",
            "iter: 0, batch:13, loss: 33.436469872202615\n",
            "iter: 0, batch:14, loss: 43.68821599981895\n",
            "iter: 0, batch:15, loss: 40.53412325662361\n",
            "iter: 0, batch:16, loss: 31.276432736628482\n",
            "iter: 0, batch:17, loss: 33.459642978534276\n",
            "iter: 0, batch:18, loss: 39.83384277993505\n",
            "iter: 0, batch:19, loss: 22.743788025276054\n",
            "iter: 0, batch:20, loss: 33.17727359095123\n",
            "iter: 0, batch:21, loss: 26.77333805240793\n",
            "iter: 0, batch:22, loss: 24.496934949900307\n",
            "iter: 0, batch:23, loss: 36.678481018125076\n",
            "iter: 0, batch:24, loss: 12.00096046209974\n",
            "iter: 0, batch:25, loss: 24.80742973544178\n",
            "iter: 0, batch:26, loss: 19.773514986015865\n",
            "### trian loss: 836.6855605926082, validation loss: 65.9686477078972 ###\n",
            "iter: 1, batch:0, loss: 27.454574523986327\n",
            "iter: 1, batch:1, loss: 28.973722023126342\n",
            "iter: 1, batch:2, loss: 25.013910544239717\n",
            "iter: 1, batch:3, loss: 26.90813953654262\n",
            "iter: 1, batch:4, loss: 16.2775025673348\n",
            "iter: 1, batch:5, loss: 25.54814810714353\n",
            "iter: 1, batch:6, loss: 22.412652446648334\n",
            "iter: 1, batch:7, loss: 32.98895747980628\n",
            "iter: 1, batch:8, loss: 33.180653630904466\n",
            "iter: 1, batch:9, loss: 25.439782059415215\n",
            "iter: 1, batch:10, loss: 29.33880568030669\n",
            "iter: 1, batch:11, loss: 8.034087759098744\n",
            "iter: 1, batch:12, loss: 23.199787101683196\n",
            "iter: 1, batch:13, loss: 26.93938398099491\n",
            "iter: 1, batch:14, loss: 35.56680823468248\n",
            "iter: 1, batch:15, loss: 31.65096094411584\n",
            "iter: 1, batch:16, loss: 26.21891080826832\n",
            "iter: 1, batch:17, loss: 27.66643895574065\n",
            "iter: 1, batch:18, loss: 31.5943791216852\n",
            "iter: 1, batch:19, loss: 18.26029344606337\n",
            "iter: 1, batch:20, loss: 24.475546736967196\n",
            "iter: 1, batch:21, loss: 21.59916449254112\n",
            "iter: 1, batch:22, loss: 18.92555085726996\n",
            "iter: 1, batch:23, loss: 32.46834934116637\n",
            "iter: 1, batch:24, loss: 6.999088571841745\n",
            "iter: 1, batch:25, loss: 20.688482859695632\n",
            "iter: 1, batch:26, loss: 15.397929751554665\n",
            "### trian loss: 663.2220115628238, validation loss: 48.516731688764615 ###\n",
            "iter: 2, batch:0, loss: 20.268941187197292\n",
            "iter: 2, batch:1, loss: 24.895082991054412\n",
            "iter: 2, batch:2, loss: 20.19556088712829\n",
            "iter: 2, batch:3, loss: 21.80702311303016\n",
            "iter: 2, batch:4, loss: 13.170769808966007\n",
            "iter: 2, batch:5, loss: 20.026911559357174\n",
            "iter: 2, batch:6, loss: 17.721418585399338\n",
            "iter: 2, batch:7, loss: 26.348823233971114\n",
            "iter: 2, batch:8, loss: 26.993943093972558\n",
            "iter: 2, batch:9, loss: 20.890341501089672\n",
            "iter: 2, batch:10, loss: 24.27729867768062\n",
            "iter: 2, batch:11, loss: 6.096364074173956\n",
            "iter: 2, batch:12, loss: 19.503019737593622\n",
            "iter: 2, batch:13, loss: 22.223843624201148\n",
            "iter: 2, batch:14, loss: 29.204486287920183\n",
            "iter: 2, batch:15, loss: 24.685086142446387\n",
            "iter: 2, batch:16, loss: 21.70108899121763\n",
            "iter: 2, batch:17, loss: 22.316747154972365\n",
            "iter: 2, batch:18, loss: 24.49178433118368\n",
            "iter: 2, batch:19, loss: 14.879744528516355\n",
            "iter: 2, batch:20, loss: 17.974415253964334\n",
            "iter: 2, batch:21, loss: 18.140098973337373\n",
            "iter: 2, batch:22, loss: 15.264615224018863\n",
            "iter: 2, batch:23, loss: 29.12972023924668\n",
            "iter: 2, batch:24, loss: 4.929496123949503\n",
            "iter: 2, batch:25, loss: 17.682298638951885\n",
            "iter: 2, batch:26, loss: 12.967873381903985\n",
            "### trian loss: 537.7867973464447, validation loss: 37.810733278574915 ###\n",
            "iter: 3, batch:0, loss: 15.350506429183936\n",
            "iter: 3, batch:1, loss: 21.90316741817564\n",
            "iter: 3, batch:2, loss: 17.284192608961735\n",
            "iter: 3, batch:3, loss: 18.201223639831447\n",
            "iter: 3, batch:4, loss: 11.214359873478658\n",
            "iter: 3, batch:5, loss: 16.056470947112967\n",
            "iter: 3, batch:6, loss: 15.035364494506998\n",
            "iter: 3, batch:7, loss: 21.704949047428347\n",
            "iter: 3, batch:8, loss: 22.09062206848706\n",
            "iter: 3, batch:9, loss: 17.590367053517838\n",
            "iter: 3, batch:10, loss: 20.215903960018537\n",
            "iter: 3, batch:11, loss: 5.191393608320512\n",
            "iter: 3, batch:12, loss: 16.50182775923355\n",
            "iter: 3, batch:13, loss: 18.575639014040927\n",
            "iter: 3, batch:14, loss: 25.098630091019327\n",
            "iter: 3, batch:15, loss: 19.357648396041427\n",
            "iter: 3, batch:16, loss: 18.10664352305743\n",
            "iter: 3, batch:17, loss: 18.12364567532272\n",
            "iter: 3, batch:18, loss: 19.56866340325529\n",
            "iter: 3, batch:19, loss: 12.189042686813655\n",
            "iter: 3, batch:20, loss: 13.345186962727608\n",
            "iter: 3, batch:21, loss: 16.02795957074205\n",
            "iter: 3, batch:22, loss: 12.767576975722019\n",
            "iter: 3, batch:23, loss: 26.515569185203606\n",
            "iter: 3, batch:24, loss: 4.068061325627872\n",
            "iter: 3, batch:25, loss: 15.462789360868536\n",
            "iter: 3, batch:26, loss: 11.55141047644215\n",
            "### trian loss: 449.0988155551418, validation loss: 31.532372599077995 ###\n",
            "iter: 4, batch:0, loss: 11.859337897996783\n",
            "iter: 4, batch:1, loss: 19.70208279980131\n",
            "iter: 4, batch:2, loss: 15.256995492338746\n",
            "iter: 4, batch:3, loss: 15.774484245562178\n",
            "iter: 4, batch:4, loss: 9.916481137666242\n",
            "iter: 4, batch:5, loss: 13.196859051737587\n",
            "iter: 4, batch:6, loss: 13.083799508175304\n",
            "iter: 4, batch:7, loss: 18.418964170901525\n",
            "iter: 4, batch:8, loss: 18.462517725838815\n",
            "iter: 4, batch:9, loss: 15.19841855727061\n",
            "iter: 4, batch:10, loss: 16.927439206968955\n",
            "iter: 4, batch:11, loss: 4.641687069763801\n",
            "iter: 4, batch:12, loss: 14.139641280366321\n",
            "iter: 4, batch:13, loss: 15.522001386924478\n",
            "iter: 4, batch:14, loss: 22.355897519707018\n",
            "iter: 4, batch:15, loss: 15.594011662207892\n",
            "iter: 4, batch:16, loss: 15.405931635755906\n",
            "iter: 4, batch:17, loss: 15.286848446554922\n",
            "iter: 4, batch:18, loss: 16.23677474079446\n",
            "iter: 4, batch:19, loss: 10.085929222666117\n",
            "iter: 4, batch:20, loss: 10.222825673955885\n",
            "iter: 4, batch:21, loss: 14.77748156832873\n",
            "iter: 4, batch:22, loss: 10.961887703557938\n",
            "iter: 4, batch:23, loss: 24.39346472962313\n",
            "iter: 4, batch:24, loss: 3.5712693320344986\n",
            "iter: 4, batch:25, loss: 13.729266318672135\n",
            "iter: 4, batch:26, loss: 10.649889379268034\n",
            "### trian loss: 385.3721874644392, validation loss: 27.502512484462386 ###\n"
          ]
        }
      ]
    },
    {
      "cell_type": "code",
      "source": [
        "len(fiv_tensor)\n",
        "len(fiv_tensor_test)"
      ],
      "metadata": {
        "colab": {
          "base_uri": "https://localhost:8080/"
        },
        "id": "7QguqnblSlau",
        "outputId": "fed211dc-ce7f-455c-971d-d677d6224773"
      },
      "execution_count": null,
      "outputs": [
        {
          "output_type": "execute_result",
          "data": {
            "text/plain": [
              "32"
            ]
          },
          "metadata": {},
          "execution_count": 82
        }
      ]
    },
    {
      "cell_type": "code",
      "source": [
        "data_s = \"\"\"iter: 0, batch:0, loss: 37.63408489522344\n",
        "iter: 0, batch:1, loss: 34.74761313601086\n",
        "iter: 0, batch:2, loss: 31.926346245675553\n",
        "iter: 0, batch:3, loss: 33.47926777740567\n",
        "iter: 0, batch:4, loss: 20.324613873019562\n",
        "iter: 0, batch:5, loss: 33.60179299619646\n",
        "iter: 0, batch:6, loss: 29.676049944572355\n",
        "iter: 0, batch:7, loss: 42.77163300434228\n",
        "iter: 0, batch:8, loss: 40.482621620563926\n",
        "iter: 0, batch:9, loss: 31.14155919730802\n",
        "iter: 0, batch:10, loss: 36.08825691455426\n",
        "iter: 0, batch:11, loss: 14.051883682993747\n",
        "iter: 0, batch:12, loss: 28.07938886078106\n",
        "iter: 0, batch:13, loss: 33.436469872202615\n",
        "iter: 0, batch:14, loss: 43.68821599981895\n",
        "iter: 0, batch:15, loss: 40.53412325662361\n",
        "iter: 0, batch:16, loss: 31.276432736628482\n",
        "iter: 0, batch:17, loss: 33.459642978534276\n",
        "iter: 0, batch:18, loss: 39.83384277993505\n",
        "iter: 0, batch:19, loss: 22.743788025276054\n",
        "iter: 0, batch:20, loss: 33.17727359095123\n",
        "iter: 0, batch:21, loss: 26.77333805240793\n",
        "iter: 0, batch:22, loss: 24.496934949900307\n",
        "iter: 0, batch:23, loss: 36.678481018125076\n",
        "iter: 0, batch:24, loss: 12.00096046209974\n",
        "iter: 0, batch:25, loss: 24.80742973544178\n",
        "iter: 0, batch:26, loss: 19.773514986015865\n",
        "iter: 1, batch:0, loss: 27.454574523986327\n",
        "iter: 1, batch:1, loss: 28.973722023126342\n",
        "iter: 1, batch:2, loss: 25.013910544239717\n",
        "iter: 1, batch:3, loss: 26.90813953654262\n",
        "iter: 1, batch:4, loss: 16.2775025673348\n",
        "iter: 1, batch:5, loss: 25.54814810714353\n",
        "iter: 1, batch:6, loss: 22.412652446648334\n",
        "iter: 1, batch:7, loss: 32.98895747980628\n",
        "iter: 1, batch:8, loss: 33.180653630904466\n",
        "iter: 1, batch:9, loss: 25.439782059415215\n",
        "iter: 1, batch:10, loss: 29.33880568030669\n",
        "iter: 1, batch:11, loss: 8.034087759098744\n",
        "iter: 1, batch:12, loss: 23.199787101683196\n",
        "iter: 1, batch:13, loss: 26.93938398099491\n",
        "iter: 1, batch:14, loss: 35.56680823468248\n",
        "iter: 1, batch:15, loss: 31.65096094411584\n",
        "iter: 1, batch:16, loss: 26.21891080826832\n",
        "iter: 1, batch:17, loss: 27.66643895574065\n",
        "iter: 1, batch:18, loss: 31.5943791216852\n",
        "iter: 1, batch:19, loss: 18.26029344606337\n",
        "iter: 1, batch:20, loss: 24.475546736967196\n",
        "iter: 1, batch:21, loss: 21.59916449254112\n",
        "iter: 1, batch:22, loss: 18.92555085726996\n",
        "iter: 1, batch:23, loss: 32.46834934116637\n",
        "iter: 1, batch:24, loss: 6.999088571841745\n",
        "iter: 1, batch:25, loss: 20.688482859695632\n",
        "iter: 1, batch:26, loss: 15.397929751554665\n",
        "iter: 2, batch:0, loss: 20.268941187197292\n",
        "iter: 2, batch:1, loss: 24.895082991054412\n",
        "iter: 2, batch:2, loss: 20.19556088712829\n",
        "iter: 2, batch:3, loss: 21.80702311303016\n",
        "iter: 2, batch:4, loss: 13.170769808966007\n",
        "iter: 2, batch:5, loss: 20.026911559357174\n",
        "iter: 2, batch:6, loss: 17.721418585399338\n",
        "iter: 2, batch:7, loss: 26.348823233971114\n",
        "iter: 2, batch:8, loss: 26.993943093972558\n",
        "iter: 2, batch:9, loss: 20.890341501089672\n",
        "iter: 2, batch:10, loss: 24.27729867768062\n",
        "iter: 2, batch:11, loss: 6.096364074173956\n",
        "iter: 2, batch:12, loss: 19.503019737593622\n",
        "iter: 2, batch:13, loss: 22.223843624201148\n",
        "iter: 2, batch:14, loss: 29.204486287920183\n",
        "iter: 2, batch:15, loss: 24.685086142446387\n",
        "iter: 2, batch:16, loss: 21.70108899121763\n",
        "iter: 2, batch:17, loss: 22.316747154972365\n",
        "iter: 2, batch:18, loss: 24.49178433118368\n",
        "iter: 2, batch:19, loss: 14.879744528516355\n",
        "iter: 2, batch:20, loss: 17.974415253964334\n",
        "iter: 2, batch:21, loss: 18.140098973337373\n",
        "iter: 2, batch:22, loss: 15.264615224018863\n",
        "iter: 2, batch:23, loss: 29.12972023924668\n",
        "iter: 2, batch:24, loss: 4.929496123949503\n",
        "iter: 2, batch:25, loss: 17.682298638951885\n",
        "iter: 2, batch:26, loss: 12.967873381903985\n",
        "iter: 3, batch:0, loss: 15.350506429183936\n",
        "iter: 3, batch:1, loss: 21.90316741817564\n",
        "iter: 3, batch:2, loss: 17.284192608961735\n",
        "iter: 3, batch:3, loss: 18.201223639831447\n",
        "iter: 3, batch:4, loss: 11.214359873478658\n",
        "iter: 3, batch:5, loss: 16.056470947112967\n",
        "iter: 3, batch:6, loss: 15.035364494506998\n",
        "iter: 3, batch:7, loss: 21.704949047428347\n",
        "iter: 3, batch:8, loss: 22.09062206848706\n",
        "iter: 3, batch:9, loss: 17.590367053517838\n",
        "iter: 3, batch:10, loss: 20.215903960018537\n",
        "iter: 3, batch:11, loss: 5.191393608320512\n",
        "iter: 3, batch:12, loss: 16.50182775923355\n",
        "iter: 3, batch:13, loss: 18.575639014040927\n",
        "iter: 3, batch:14, loss: 25.098630091019327\n",
        "iter: 3, batch:15, loss: 19.357648396041427\n",
        "iter: 3, batch:16, loss: 18.10664352305743\n",
        "iter: 3, batch:17, loss: 18.12364567532272\n",
        "iter: 3, batch:18, loss: 19.56866340325529\n",
        "iter: 3, batch:19, loss: 12.189042686813655\n",
        "iter: 3, batch:20, loss: 13.345186962727608\n",
        "iter: 3, batch:21, loss: 16.02795957074205\n",
        "iter: 3, batch:22, loss: 12.767576975722019\n",
        "iter: 3, batch:23, loss: 26.515569185203606\n",
        "iter: 3, batch:24, loss: 4.068061325627872\n",
        "iter: 3, batch:25, loss: 15.462789360868536\n",
        "iter: 3, batch:26, loss: 11.55141047644215\n",
        "iter: 4, batch:0, loss: 11.859337897996783\n",
        "iter: 4, batch:1, loss: 19.70208279980131\n",
        "iter: 4, batch:2, loss: 15.256995492338746\n",
        "iter: 4, batch:3, loss: 15.774484245562178\n",
        "iter: 4, batch:4, loss: 9.916481137666242\n",
        "iter: 4, batch:5, loss: 13.196859051737587\n",
        "iter: 4, batch:6, loss: 13.083799508175304\n",
        "iter: 4, batch:7, loss: 18.418964170901525\n",
        "iter: 4, batch:8, loss: 18.462517725838815\n",
        "iter: 4, batch:9, loss: 15.19841855727061\n",
        "iter: 4, batch:10, loss: 16.927439206968955\n",
        "iter: 4, batch:11, loss: 4.641687069763801\n",
        "iter: 4, batch:12, loss: 14.139641280366321\n",
        "iter: 4, batch:13, loss: 15.522001386924478\n",
        "iter: 4, batch:14, loss: 22.355897519707018\n",
        "iter: 4, batch:15, loss: 15.594011662207892\n",
        "iter: 4, batch:16, loss: 15.405931635755906\n",
        "iter: 4, batch:17, loss: 15.286848446554922\n",
        "iter: 4, batch:18, loss: 16.23677474079446\n",
        "iter: 4, batch:19, loss: 10.085929222666117\n",
        "iter: 4, batch:20, loss: 10.222825673955885\n",
        "iter: 4, batch:21, loss: 14.77748156832873\n",
        "iter: 4, batch:22, loss: 10.961887703557938\n",
        "iter: 4, batch:23, loss: 24.39346472962313\n",
        "iter: 4, batch:24, loss: 3.5712693320344986\n",
        "iter: 4, batch:25, loss: 13.729266318672135\n",
        "iter: 4, batch:26, loss: 10.649889379268034\"\"\"\n",
        "\n",
        "import re\n",
        "loss_list = re.findall(r\"loss:\\s*([\\d.].....)\", data_s)\n"
      ],
      "metadata": {
        "id": "s228azSIfjgX"
      },
      "execution_count": null,
      "outputs": []
    },
    {
      "cell_type": "code",
      "source": [
        "plt.plot([i for i in range(len(loss_list))], [float(loss) for loss in loss_list])"
      ],
      "metadata": {
        "colab": {
          "base_uri": "https://localhost:8080/",
          "height": 447
        },
        "id": "0-FLYtfBnuoD",
        "outputId": "0cb09369-0e6b-4273-9c10-f7e0e34fda5a"
      },
      "execution_count": null,
      "outputs": [
        {
          "output_type": "execute_result",
          "data": {
            "text/plain": [
              "[<matplotlib.lines.Line2D at 0x788a8d5cf1d0>]"
            ]
          },
          "metadata": {},
          "execution_count": 93
        },
        {
          "output_type": "display_data",
          "data": {
            "text/plain": [
              "<Figure size 640x480 with 1 Axes>"
            ],
            "image/png": "[encoded data removed]"
          },
          "metadata": {}
        }
      ]
    },
    {
      "cell_type": "code",
      "source": [
        "nn_five = NLP(784, [32, 5])\n",
        "t_loss = []\n",
        "t_loss_b = []"
      ],
      "metadata": {
        "id": "7RsBOhA6pYK1"
      },
      "execution_count": null,
      "outputs": []
    },
    {
      "cell_type": "code",
      "source": [
        "for iter in range(5):\n",
        "    total_train_loss = 0\n",
        "\n",
        "    for start in range(int(len(fiv_tensor)//10)):\n",
        "      # forward prop\n",
        "        preds_batch = [nn_five(tensor) for tensor in fiv_tensor[start*10:10+(start*10)]]\n",
        "\n",
        "        # softmaxing\n",
        "        sft_preds_batch = []\n",
        "        for preds in preds_batch:\n",
        "            exp = [i.exp() for i in preds]\n",
        "            sexp = sum(exp)\n",
        "            sft_preds = [ex/sexp for ex in exp]\n",
        "            sft_preds_batch.append(sft_preds)\n",
        "\n",
        "        preds_vals = [sft_preds[lab] for sft_preds, lab in zip(sft_preds_batch, fiv_label[start*10:(start*10)+10])]\n",
        "        loss = sum([p_val.log() * -1 for p_val in preds_vals])\n",
        "        total_train_loss += loss.data\n",
        "\n",
        "        # grad-decent\n",
        "        for p in nn_five.parameters():\n",
        "            p.grad = 0\n",
        "\n",
        "        loss.backward()\n",
        "\n",
        "        for p in nn_five.parameters():\n",
        "            p.data = p.data - (0.05/(iter+1) * p.grad)\n",
        "\n",
        "\n",
        "        # validation testing\n",
        "        val_preds = [nn_five(test_tensor) for test_tensor in fiv_tensor_test]\n",
        "\n",
        "        val_sft_preds = []\n",
        "        for preds in val_preds:\n",
        "            exp = [i.exp() for i in preds]\n",
        "            sexp = sum(exp)\n",
        "            sft_preds = [ex/sexp for ex in exp]\n",
        "            val_sft_preds.append(sft_preds)\n",
        "\n",
        "        val_preds_vals = [sft_preds[lab] for sft_preds, lab in zip(val_sft_preds, fiv_label_test)]\n",
        "        val_loss = sum([p_val.log() * -1 for p_val in val_preds_vals])\n",
        "\n",
        "        t_loss_b.append([loss.data, val_loss.data])\n",
        "        print(f\"iter: {iter}, batch:{start}, loss: {loss.data}, val loss: {val_loss.data}\")\n",
        "\n",
        "    print(f\"### total trian loss: {total_train_loss} of iter: {iter}, validation loss: {val_loss.data} ###\")\n",
        "    t_loss.append([total_train_loss, val_loss.data])"
      ],
      "metadata": {
        "id": "7geV2Xs4pJc2",
        "colab": {
          "base_uri": "https://localhost:8080/"
        },
        "outputId": "0ddc7e01-90b3-42ef-8abd-e6534e857c4b"
      },
      "execution_count": null,
      "outputs": [
        {
          "output_type": "stream",
          "name": "stdout",
          "text": [
            "iter: 0, batch:0, loss: 53.41802618734396, val loss: 117.84695538457608\n",
            "iter: 0, batch:1, loss: 28.597018496967152, val loss: 102.65474478248069\n",
            "iter: 0, batch:2, loss: 26.947858132954675, val loss: 98.1779918256562\n",
            "iter: 0, batch:3, loss: 33.18361974258997, val loss: 54.632271490900166\n",
            "iter: 0, batch:4, loss: 25.26598584935638, val loss: 41.727371391292834\n",
            "iter: 0, batch:5, loss: 13.616743459910632, val loss: 39.73387574958238\n",
            "iter: 0, batch:6, loss: 13.713041894498922, val loss: 36.91195666396991\n",
            "iter: 0, batch:7, loss: 26.70633575914748, val loss: 38.63927423552567\n",
            "iter: 0, batch:8, loss: 22.660931457258258, val loss: 44.32877696721765\n",
            "iter: 0, batch:9, loss: 13.622253706633343, val loss: 24.05110460637288\n",
            "iter: 0, batch:10, loss: 3.6097408663594193, val loss: 22.369104792517255\n",
            "iter: 0, batch:11, loss: 4.992341905028181, val loss: 23.944718459937214\n",
            "iter: 0, batch:12, loss: 9.546470218391594, val loss: 17.379099710903585\n",
            "iter: 0, batch:13, loss: 8.014353536694596, val loss: 17.921731142076133\n",
            "iter: 0, batch:14, loss: 16.252396891594607, val loss: 20.02201783147039\n",
            "iter: 0, batch:15, loss: 3.2809161933712536, val loss: 12.849719457732608\n",
            "iter: 0, batch:16, loss: 5.7564643901635355, val loss: 15.033530440244304\n",
            "iter: 0, batch:17, loss: 2.1778296347373995, val loss: 15.241932101589908\n",
            "iter: 0, batch:18, loss: 1.0379908869224064, val loss: 14.470447372804086\n",
            "iter: 0, batch:19, loss: 8.00448110137149, val loss: 13.778132919917457\n",
            "iter: 0, batch:20, loss: 0.9485910187461547, val loss: 12.433614734361988\n",
            "iter: 0, batch:21, loss: 2.885834640443836, val loss: 12.027344565080272\n",
            "iter: 0, batch:22, loss: 4.286174205521129, val loss: 12.331068108566889\n",
            "iter: 0, batch:23, loss: 4.781070828210303, val loss: 13.57765788970052\n",
            "iter: 0, batch:24, loss: 2.2285325586317493, val loss: 14.348471877375456\n",
            "iter: 0, batch:25, loss: 2.4307092700087054, val loss: 12.681074691782923\n",
            "iter: 0, batch:26, loss: 4.953736375569282, val loss: 23.839920423913536\n",
            "### total trian loss: 342.91944920842644 of iter: 0, validation loss: 23.839920423913536 ###\n",
            "iter: 1, batch:0, loss: 5.717806210387023, val loss: 19.265214967749973\n",
            "iter: 1, batch:1, loss: 16.519018267711353, val loss: 11.947523811525235\n",
            "iter: 1, batch:2, loss: 6.340910797066747, val loss: 12.043930160689035\n",
            "iter: 1, batch:3, loss: 3.5173308347834724, val loss: 11.5878595287242\n",
            "iter: 1, batch:4, loss: 8.575786617359048, val loss: 10.728881538849265\n",
            "iter: 1, batch:5, loss: 2.4682051730842245, val loss: 9.852280361290129\n",
            "iter: 1, batch:6, loss: 5.471092979602954, val loss: 11.19604296488689\n",
            "iter: 1, batch:7, loss: 7.965557197670189, val loss: 9.475538654608087\n",
            "iter: 1, batch:8, loss: 1.6370005496239588, val loss: 9.863628368344024\n",
            "iter: 1, batch:9, loss: 2.995704510209297, val loss: 10.89941519417732\n",
            "iter: 1, batch:10, loss: 1.928934825671347, val loss: 11.284181653104362\n",
            "iter: 1, batch:11, loss: 0.8558571515161164, val loss: 11.368260228227863\n",
            "iter: 1, batch:12, loss: 5.09110745991939, val loss: 10.039913882081425\n",
            "iter: 1, batch:13, loss: 0.718597596907826, val loss: 10.433909078211444\n",
            "iter: 1, batch:14, loss: 4.856045486498074, val loss: 10.808090265204259\n",
            "iter: 1, batch:15, loss: 0.18970514027961458, val loss: 10.688672927807529\n",
            "iter: 1, batch:16, loss: 1.3155748514202257, val loss: 10.3421517792233\n",
            "iter: 1, batch:17, loss: 1.337667303815428, val loss: 9.676039280182355\n",
            "iter: 1, batch:18, loss: 0.12088064977736494, val loss: 9.695894662250076\n",
            "iter: 1, batch:19, loss: 1.6701764921498807, val loss: 10.118270241874844\n",
            "iter: 1, batch:20, loss: 0.3198966229926408, val loss: 9.91175483414143\n",
            "iter: 1, batch:21, loss: 1.3377571777770796, val loss: 10.302052855277918\n",
            "iter: 1, batch:22, loss: 2.295301908038462, val loss: 10.690622221010015\n",
            "iter: 1, batch:23, loss: 2.9079310899032333, val loss: 11.812141932082097\n",
            "iter: 1, batch:24, loss: 0.9051501813529466, val loss: 11.82886576088074\n",
            "iter: 1, batch:25, loss: 0.5532218660837104, val loss: 11.59362819959428\n",
            "iter: 1, batch:26, loss: 0.6559423673833757, val loss: 11.49857373843309\n",
            "### total trian loss: 88.26816130898497 of iter: 1, validation loss: 11.49857373843309 ###\n",
            "iter: 2, batch:0, loss: 0.6611817570966579, val loss: 11.132369124626715\n",
            "iter: 2, batch:1, loss: 7.275334140140131, val loss: 10.24729548522453\n",
            "iter: 2, batch:2, loss: 4.4762624224582535, val loss: 9.925589231116101\n",
            "iter: 2, batch:3, loss: 3.910162310273906, val loss: 8.906014275086518\n",
            "iter: 2, batch:4, loss: 1.1987820204234443, val loss: 8.922913742410215\n",
            "iter: 2, batch:5, loss: 0.6631309460071632, val loss: 8.86426727062225\n",
            "iter: 2, batch:6, loss: 3.6898853391051274, val loss: 9.073054065052501\n",
            "iter: 2, batch:7, loss: 5.9418796835775405, val loss: 8.482298371124587\n",
            "iter: 2, batch:8, loss: 1.1652052074062986, val loss: 8.622541980899356\n",
            "iter: 2, batch:9, loss: 0.671640489176447, val loss: 8.704439209088761\n",
            "iter: 2, batch:10, loss: 1.4988202018608496, val loss: 8.995543718920606\n",
            "iter: 2, batch:11, loss: 0.6084287081757781, val loss: 9.047227214795862\n",
            "iter: 2, batch:12, loss: 2.6176574391209066, val loss: 8.73933229316535\n",
            "iter: 2, batch:13, loss: 1.0860658789124615, val loss: 9.003902455202512\n",
            "iter: 2, batch:14, loss: 2.4540510310807595, val loss: 9.081162488460865\n",
            "iter: 2, batch:15, loss: 0.11328622294437332, val loss: 9.062192491894892\n",
            "iter: 2, batch:16, loss: 0.4999445398502234, val loss: 8.995096456993831\n",
            "iter: 2, batch:17, loss: 0.7045231388958824, val loss: 8.842519820783256\n",
            "iter: 2, batch:18, loss: 0.08383477080761376, val loss: 8.838373293615225\n",
            "iter: 2, batch:19, loss: 1.1758699108009492, val loss: 9.074082307924433\n",
            "iter: 2, batch:20, loss: 0.18349783417588372, val loss: 9.014449832453165\n",
            "iter: 2, batch:21, loss: 0.871927470329652, val loss: 9.169551168942043\n",
            "iter: 2, batch:22, loss: 0.9923866217695848, val loss: 9.200159408529645\n",
            "iter: 2, batch:23, loss: 2.5582407282290753, val loss: 9.897258191346943\n",
            "iter: 2, batch:24, loss: 0.6923842578311417, val loss: 10.102797269618637\n",
            "iter: 2, batch:25, loss: 0.2935237018615579, val loss: 10.109953650511022\n",
            "iter: 2, batch:26, loss: 0.3977122797442571, val loss: 10.099390922103945\n",
            "### total trian loss: 46.48561905205592 of iter: 2, validation loss: 10.099390922103945 ###\n",
            "iter: 3, batch:0, loss: 0.3077822073652978, val loss: 10.01732638351364\n",
            "iter: 3, batch:1, loss: 5.1030117531339965, val loss: 9.501890269079174\n",
            "iter: 3, batch:2, loss: 3.076505507437048, val loss: 9.410998080589147\n",
            "iter: 3, batch:3, loss: 2.1507151223401975, val loss: 8.687109729095715\n",
            "iter: 3, batch:4, loss: 0.6214598337562278, val loss: 8.688740006473305\n",
            "iter: 3, batch:5, loss: 0.5683436919910596, val loss: 8.660972056099503\n",
            "iter: 3, batch:6, loss: 3.185776773675889, val loss: 8.693393939669777\n",
            "iter: 3, batch:7, loss: 4.43860566444393, val loss: 8.304167169395328\n",
            "iter: 3, batch:8, loss: 0.9091887732041426, val loss: 8.368222427915997\n",
            "iter: 3, batch:9, loss: 0.5130941997680281, val loss: 8.413281339238909\n",
            "iter: 3, batch:10, loss: 1.059082117973513, val loss: 8.523345532983583\n",
            "iter: 3, batch:11, loss: 0.49263051795698987, val loss: 8.55059115198055\n",
            "iter: 3, batch:12, loss: 1.6389223329207505, val loss: 8.397448553346203\n",
            "iter: 3, batch:13, loss: 1.1142420409337825, val loss: 8.487820439058916\n",
            "iter: 3, batch:14, loss: 1.8800942733167427, val loss: 8.594922684752973\n",
            "iter: 3, batch:15, loss: 0.11024189732926411, val loss: 8.577049133184826\n",
            "iter: 3, batch:16, loss: 0.4238546645577248, val loss: 8.569592503425817\n",
            "iter: 3, batch:17, loss: 0.48205194318496025, val loss: 8.519812167644382\n",
            "iter: 3, batch:18, loss: 0.07105544881673144, val loss: 8.514618764978604\n",
            "iter: 3, batch:19, loss: 0.9352990346642103, val loss: 8.657811902445467\n",
            "iter: 3, batch:20, loss: 0.1493787511947611, val loss: 8.62286141164079\n",
            "iter: 3, batch:21, loss: 0.7596696170390415, val loss: 8.717680605993811\n",
            "iter: 3, batch:22, loss: 0.8852466762117494, val loss: 8.723953482851693\n",
            "iter: 3, batch:23, loss: 2.0886366448600486, val loss: 9.21002738482749\n",
            "iter: 3, batch:24, loss: 0.6263525458163719, val loss: 9.3998660142156\n",
            "iter: 3, batch:25, loss: 0.25251250489141797, val loss: 9.430547072052393\n",
            "iter: 3, batch:26, loss: 0.33244656230433156, val loss: 9.424332063842206\n",
            "### total trian loss: 34.17620110108821 of iter: 3, validation loss: 9.424332063842206 ###\n",
            "iter: 4, batch:0, loss: 0.24772055798910092, val loss: 9.385906282816816\n",
            "iter: 4, batch:1, loss: 4.05506129581178, val loss: 9.155490839089468\n",
            "iter: 4, batch:2, loss: 2.191958732929916, val loss: 9.172533077640114\n",
            "iter: 4, batch:3, loss: 1.3921171025032302, val loss: 8.72568047684918\n",
            "iter: 4, batch:4, loss: 0.5148336942285412, val loss: 8.724572221481221\n",
            "iter: 4, batch:5, loss: 0.5510972916431278, val loss: 8.696440346868831\n",
            "iter: 4, batch:6, loss: 2.8105278186887337, val loss: 8.690216172759282\n",
            "iter: 4, batch:7, loss: 2.6972777046192955, val loss: 8.40446331785998\n",
            "iter: 4, batch:8, loss: 0.7362444644651186, val loss: 8.448521969490386\n",
            "iter: 4, batch:9, loss: 0.42282379732574193, val loss: 8.477862459519768\n",
            "iter: 4, batch:10, loss: 0.8165245845138617, val loss: 8.54439881434989\n",
            "iter: 4, batch:11, loss: 0.41910103862420656, val loss: 8.5661881580815\n",
            "iter: 4, batch:12, loss: 1.2190423455128065, val loss: 8.465134220068762\n",
            "iter: 4, batch:13, loss: 0.9389746011361372, val loss: 8.513781142379024\n",
            "iter: 4, batch:14, loss: 1.547893759619958, val loss: 8.605513046052915\n",
            "iter: 4, batch:15, loss: 0.10463770874430044, val loss: 8.589739531663083\n",
            "iter: 4, batch:16, loss: 0.3932697010206067, val loss: 8.588899365724554\n",
            "iter: 4, batch:17, loss: 0.40348375939480297, val loss: 8.55777384237016\n",
            "iter: 4, batch:18, loss: 0.06543072666519936, val loss: 8.552530552303852\n",
            "iter: 4, batch:19, loss: 0.8126120523872084, val loss: 8.647486826970285\n",
            "iter: 4, batch:20, loss: 0.13841919029863234, val loss: 8.619847425552852\n",
            "iter: 4, batch:21, loss: 0.6934811407431126, val loss: 8.687433241980147\n",
            "iter: 4, batch:22, loss: 0.7974561079483157, val loss: 8.685690535480338\n",
            "iter: 4, batch:23, loss: 1.7079244241188452, val loss: 9.031954973134761\n",
            "iter: 4, batch:24, loss: 0.5659300254547011, val loss: 9.17923728909561\n"
          ]
        }
      ]
    },
    {
      "cell_type": "code",
      "source": [
        "plt.plot()"
      ],
      "metadata": {
        "colab": {
          "base_uri": "https://localhost:8080/"
        },
        "id": "dHWp3x3noIjE",
        "outputId": "af2729cc-b222-4d30-f4b7-a2186983a7a8"
      },
      "execution_count": 13,
      "outputs": [
        {
          "output_type": "execute_result",
          "data": {
            "text/plain": [
              "[[53.41802618734396, 117.84695538457608],\n",
              " [28.597018496967152, 102.65474478248069],\n",
              " [26.947858132954675, 98.1779918256562],\n",
              " [33.18361974258997, 54.632271490900166],\n",
              " [25.26598584935638, 41.727371391292834],\n",
              " [13.616743459910632, 39.73387574958238],\n",
              " [13.713041894498922, 36.91195666396991],\n",
              " [26.70633575914748, 38.63927423552567],\n",
              " [22.660931457258258, 44.32877696721765],\n",
              " [13.622253706633343, 24.05110460637288]]"
            ]
          },
          "metadata": {},
          "execution_count": 13
        }
      ]
    },
    {
      "cell_type": "code",
      "source": [
        "total_train_loss"
      ],
      "metadata": {
        "id": "borF7DDZoJto",
        "colab": {
          "base_uri": "https://localhost:8080/"
        },
        "outputId": "58433a1d-7b24-413d-c9bc-c44f61e96c26"
      },
      "execution_count": 15,
      "outputs": [
        {
          "output_type": "execute_result",
          "data": {
            "text/plain": [
              "26.782494708839724"
            ]
          },
          "metadata": {},
          "execution_count": 14
        },
        {
          "output_type": "execute_result",
          "data": {
            "text/plain": [
              "26.782494708839724"
            ]
          },
          "metadata": {},
          "execution_count": 15
        }
      ]
    },
    {
      "cell_type": "code",
      "source": [
        "plt.figure(figsize=(10,5), layout='constrained')\n",
        "plt.plot([i for i in range(len(t_loss_b))], [loss[0] for loss in t_loss_b], label=\"train loss\")\n",
        "plt.plot([i for i in range(len(t_loss_b))], [loss[1] for loss in t_loss_b], label=\"val loss\")\n",
        "plt.xlabel(\"iter\")\n",
        "plt.ylabel(\"loss\")\n",
        "plt.title(\"MNIST<5 Training Graph\")\n",
        "plt.legend();\n"
      ],
      "metadata": {
        "colab": {
          "base_uri": "https://localhost:8080/",
          "height": 528
        },
        "id": "RWb4QA7HgPL3",
        "outputId": "f9031e71-8070-4e66-cbe7-0f15ef33f7bd"
      },
      "execution_count": 25,
      "outputs": [
        {
          "output_type": "display_data",
          "data": {
            "text/plain": [
              "<Figure size 1000x500 with 1 Axes>"
            ],
            "image/png": "[encoded data removed]"
          },
          "metadata": {}
        }
      ]
    },
    {
      "cell_type": "code",
      "source": [],
      "metadata": {
        "id": "etmfwy90iN6d"
      },
      "execution_count": null,
      "outputs": []
    }
  ]
}