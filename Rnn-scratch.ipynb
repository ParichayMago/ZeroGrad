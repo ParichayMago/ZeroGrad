{
 "cells": [
  {
   "cell_type": "code",
   "execution_count": 1,
   "id": "9c864a63-fe6c-4beb-bc6b-43c1c18d66d9",
   "metadata": {},
   "outputs": [],
   "source": [
    "import matplotlib.pyplot as plt\n",
    "import math\n",
    "import random"
   ]
  },
  {
   "cell_type": "markdown",
   "id": "910e6e91-f3d1-4f79-9f74-4d864cf5c5a1",
   "metadata": {},
   "source": [
    "## Zero Grad "
   ]
  },
  {
   "cell_type": "code",
   "execution_count": 2,
   "id": "b1358f2f-ef52-42f3-bbc2-2de0517033a3",
   "metadata": {},
   "outputs": [],
   "source": [
    "import math\n",
    "\n",
    "class Value:\n",
    "    def __init__(self, data, _children=(), op=\"\"):\n",
    "        self.data = data\n",
    "        self._prev = _children\n",
    "        self.op = op\n",
    "        self.grad = 0\n",
    "        self._backward = lambda: None\n",
    "\n",
    "    def __add__(self, other):\n",
    "        if not isinstance(other, Value):\n",
    "            other = Value(other)\n",
    "        out = Value(self.data + other.data, (self,other), \"+\")\n",
    "\n",
    "        def _backward():\n",
    "            self.grad += 1 * out.grad\n",
    "            other.grad += 1 * out.grad\n",
    "\n",
    "        out._backward = _backward\n",
    "\n",
    "        return out\n",
    "\n",
    "    def __mul__(self, other):\n",
    "        if not isinstance(other, Value):\n",
    "            other = Value(other)\n",
    "        out = Value(self.data * other.data, (self, other), \"*\")\n",
    "\n",
    "        def _backward():\n",
    "            self.grad += other.data * out.grad\n",
    "            other.grad += self.data * out.grad\n",
    "\n",
    "        out._backward = _backward\n",
    "        return out\n",
    "\n",
    "    def __sub__(self, other):\n",
    "        return self + (other * -1)\n",
    "\n",
    "    def __truediv__(self, other):\n",
    "        return self * (other**-1.0)\n",
    "\n",
    "    def __repr__(self):\n",
    "        return f\"Data([{self.data}])\"\n",
    "\n",
    "    def __rmul__(self, other):\n",
    "        return self * other\n",
    "\n",
    "    def __radd__(self, other):\n",
    "        return self+other\n",
    "\n",
    "    def __rtruediv__(self, other):\n",
    "        return self / other\n",
    "\n",
    "    def __pow__(self, other):\n",
    "        assert isinstance(other, float), \"Only float valeus are allowed for now\"\n",
    "        out = Value(self.data**other, (self,), f\"**{other}\")\n",
    "\n",
    "        def _backward():\n",
    "            self.grad +=  (other * (self.data**(other-1))) * out.grad\n",
    "        out._backward = _backward\n",
    "\n",
    "        return out\n",
    "\n",
    "    def exp(self):\n",
    "        result = math.exp(self.data)\n",
    "        out = Value(result, (self,), \"exp\")\n",
    "\n",
    "        def _backward():\n",
    "            self.grad += result * out.grad\n",
    "\n",
    "        out._backward = _backward\n",
    "\n",
    "        return out\n",
    "\n",
    "    def log(self):\n",
    "        result =  math.log(self.data)\n",
    "        out = Value(result, (self,), \"log\")\n",
    "\n",
    "        def _backward():\n",
    "            self.grad += (self.data**-1.0) * out.grad\n",
    "        out._backward = _backward\n",
    "\n",
    "        return out\n",
    "\n",
    "    def tanh(self):\n",
    "        e = math.exp((2 * self.data))\n",
    "        result = (e-1)/(e+1)\n",
    "        out = Value(result, (self,), \"tanh\")\n",
    "\n",
    "        def _backward():\n",
    "           self.grad += (1-(result**2)) * out.grad\n",
    "        out._backward = _backward\n",
    "\n",
    "        return out\n",
    "\n",
    "    def relu(self):\n",
    "        result = max(self.data, 0)\n",
    "        out = Value(result, (self,), \"relu\")\n",
    "        def _backward():\n",
    "            if(self.data>0):\n",
    "                self.grad += 1.0 *out.grad\n",
    "            else:\n",
    "                self.grad += 0\n",
    "        out._backward = _backward\n",
    "\n",
    "        return out\n",
    "\n",
    "    def backward(self):\n",
    "        topo = []\n",
    "        visited = set()\n",
    "\n",
    "        def build_topo(v):\n",
    "            if v not in visited:\n",
    "                visited.add(v)\n",
    "                for child in v._prev:\n",
    "                    build_topo(child)\n",
    "                topo.append(v)\n",
    "\n",
    "        build_topo(self)\n",
    "\n",
    "        self.grad = 1.0\n",
    "        for node in reversed(topo):\n",
    "            node._backward()\n"
   ]
  },
  {
   "cell_type": "code",
   "execution_count": 3,
   "id": "da9c4525-b6a2-4761-860d-f910d96de5e1",
   "metadata": {},
   "outputs": [],
   "source": [
    "import math\n",
    "import random\n",
    "\n",
    "class Neuron:\n",
    "    def __init__(self, nin, final):\n",
    "        self.weights = [Value(random.uniform(-1,1)) for _ in range(nin)]\n",
    "        self.bias = Value(random.uniform(-1,1))\n",
    "        self.final = final\n",
    "\n",
    "    def __call__(self, inpts):\n",
    "        out = sum([weight * inpt for weight, inpt in zip(self.weights, inpts)], self.bias)\n",
    "        out = out.tanh()\n",
    "        return out\n",
    "\n",
    "    def parameters(self):\n",
    "        out = self.weights + [self.bias]\n",
    "        return out\n",
    "\n",
    "class Layer:\n",
    "    def __init__(self, nin, nout, final):\n",
    "        self.neurons = [Neuron(nin, final) for _ in range(nout)]\n",
    "\n",
    "    def __call__(self, inpt):\n",
    "        out = [neuron(inpt) for neuron in self.neurons]\n",
    "        return out[0] if len(out) == 1 else out\n",
    "\n",
    "    def parameters(self):\n",
    "        out = [p for neuron in self.neurons for p in neuron.parameters()]\n",
    "        return out\n",
    "\n",
    "class NLP:\n",
    "    def __init__(self, nin, layers):\n",
    "        layers_i = [nin] + layers\n",
    "        self.layers = [Layer(layers_i[i], layers_i[i+1], False) if i != len(layers)-1 else Layer(layers_i[i], layers_i[i+1], True) for i in range(len(layers))]\n",
    "\n",
    "    def __call__(self, inpts):\n",
    "        x = inpts\n",
    "        for layer in self.layers:\n",
    "            x = layer(x)\n",
    "        return x\n",
    "\n",
    "    def parameters(self):\n",
    "        out = [p for layer in self.layers for p in layer.parameters()]\n",
    "        return out\n"
   ]
  },
  {
   "cell_type": "markdown",
   "id": "ae99029b-902c-4a54-b464-3b05edac702e",
   "metadata": {},
   "source": [
    "## Rnn implementation"
   ]
  },
  {
   "cell_type": "code",
   "execution_count": 4,
   "id": "a99ede7c-5802-4abe-842e-58885c3598a2",
   "metadata": {},
   "outputs": [
    {
     "data": {
      "image/png": "[encoded data removed]",
      "text/plain": [
       "<Figure size 640x480 with 1 Axes>"
      ]
     },
     "metadata": {},
     "output_type": "display_data"
    }
   ],
   "source": [
    "def training_data(n_samples):\n",
    "    x =  list(range(n_samples))\n",
    "    y = [math.sin(0.01 * t) + random.uniform(-1, 1) * 0.2 for t in x] \n",
    "    return x, y\n",
    "x, y = training_data(1000)\n",
    "plt.plot(x,y);"
   ]
  },
  {
   "cell_type": "code",
   "execution_count": 5,
   "id": "92b07aaf-40fe-4a8e-b271-7e846cb65f2a",
   "metadata": {},
   "outputs": [
    {
     "data": {
      "text/plain": [
       "[[430, 431, 432, 433, 434], [975, 976, 977, 978, 979], [90, 91, 92, 93, 94]]"
      ]
     },
     "execution_count": 5,
     "metadata": {},
     "output_type": "execute_result"
    }
   ],
   "source": [
    "block_sz = 5\n",
    "batch_sz = 7\n",
    "\n",
    "listing = [[i+(j*block_sz) for i in range(block_sz)] for j in range(1000//5)]\n",
    "random.shuffle(listing)\n",
    "listing[:3]"
   ]
  },
  {
   "cell_type": "code",
   "execution_count": 21,
   "id": "9ba1115c-ce94-4cce-8d25-01b921c89594",
   "metadata": {},
   "outputs": [],
   "source": [
    "iter_list = iter(listing)\n",
    "def DataLoader():\n",
    "    n_list = next(iter_list)\n",
    "    x_data, y_data = [x[i] for i in n_list], [ y[i] for i in n_list]\n",
    "    return x_data, y_data"
   ]
  },
  {
   "cell_type": "code",
   "execution_count": 7,
   "id": "27c1a0f2-fb83-477a-a40f-56498e5abb39",
   "metadata": {},
   "outputs": [],
   "source": [
    "class Rnn:\n",
    "    def __init__(self, n_inpt, n_out):\n",
    "        self.hidden = (0 for _ in range(5))\n",
    "        self.W_io = NLP(5, [5, 5]) \n",
    "        self.W_hh = NLP(5, [5,5])\n",
    "        self.W_ho = NLP(5, [1])\n",
    "        \n",
    "        \n",
    "    def __call__(self, inpt):\n",
    "        self.hidden = self.hidden+self.W_io(inpt) #1,3 3,5 -> 1,5 + 1,5 -> 1,5\n",
    "        \n",
    "        return out \n",
    "\n",
    "        "
   ]
  },
  {
   "cell_type": "code",
   "execution_count": 419,
   "id": "081a3e74-be81-47fa-bf78-f12917804b41",
   "metadata": {},
   "outputs": [],
   "source": [
    "W_ih = NLP(1, [5]) \n",
    "W_hh = NLP(5, [5,5])\n",
    "W_ho = NLP(5, [1])\n"
   ]
  },
  {
   "cell_type": "code",
   "execution_count": 23,
   "id": "969ed1ae-ec2b-4bcb-b246-22a0114ed968",
   "metadata": {},
   "outputs": [
    {
     "ename": "SyntaxError",
     "evalue": "closing parenthesis ']' does not match opening parenthesis '(' (2390019132.py, line 2)",
     "output_type": "error",
     "traceback": [
      "\u001b[0;36m  Cell \u001b[0;32mIn[23], line 2\u001b[0;36m\u001b[0m\n\u001b[0;31m    hidden = [Value(random.unform(-1, 1) for _ range(5)]\u001b[0m\n\u001b[0m                                                       ^\u001b[0m\n\u001b[0;31mSyntaxError\u001b[0m\u001b[0;31m:\u001b[0m closing parenthesis ']' does not match opening parenthesis '('\n"
     ]
    }
   ],
   "source": [
    "bias = random.uniform(-1,1)\n",
    "hidden = [Value(random.unform(-1, 1) for _ range(5)]\n",
    "for i in range(10):\n",
    "    t_data, t_label = DataLoader()\n",
    "    loss = 0\n",
    "    preds = []\n",
    "\n",
    "    a = w_ih(t_data)\n",
    "    b = w_hh(hidden)\n",
    "\n",
    "    o = [a[i] + b[i] for i in len(a)]\n",
    "    \n",
    "    \n",
    "    inpt = w_ih(t_data)\n",
    "    hidden = w_hh(hidden)\n",
    "    out = w_ih(hidden)\n",
    "    \n",
    "\n",
    "    \n",
    "    out = w_ho(hidden)\n",
    "    \n",
    "    for data in t_data:\n",
    "        hidden =  W_hh(hidden) + W_ih(data) + bias \n",
    "        \n",
    "        \n",
    "        \n",
    "    "
   ]
  },
  {
   "cell_type": "code",
   "execution_count": 143,
   "id": "ba2b59e8-1048-4950-9fa6-c66db45bfaec",
   "metadata": {},
   "outputs": [
    {
     "data": {
      "text/plain": [
       "[1.144241929077933,\n",
       " 0.9220937239864431,\n",
       " 1.1590883803726222,\n",
       " 0.8307278645132739,\n",
       " 0.8432944451554613]"
      ]
     },
     "execution_count": 143,
     "metadata": {},
     "output_type": "execute_result"
    }
   ],
   "source": [
    "t_time, t_value = DataLoader()\n",
    "t_value"
   ]
  },
  {
   "cell_type": "code",
   "execution_count": 423,
   "id": "b4f3390d-d3cb-4260-a192-e62a8118c3de",
   "metadata": {},
   "outputs": [],
   "source": [
    "plt_loss=[]"
   ]
  },
  {
   "cell_type": "code",
   "execution_count": null,
   "id": "387759d0-b66b-4555-a5d4-09ed5b8a94d0",
   "metadata": {},
   "outputs": [],
   "source": [
    "for i in range(20):\n",
    "    hidden = [Value(random.uniform(-1, 1)) for _ in range(5)]\n",
    "    t_loss = 0\n",
    "    \n",
    "    all_parameters = W_ih.parameters() + W_hh.parameters() + W_ho.parameters()\n",
    "    for p in all_parameters:\n",
    "        p.data = p.data - (0.001 * p.grad)\n",
    "        \n",
    "    for data_i in range(len(t_value)-1):\n",
    "        mix_iw = W_ih([t_value[data_i]])\n",
    "        mix_hh = W_hh(hidden)\n",
    "        hidden = [mix_iw[i] + mix_hh[i] for i in range(len(mix_iw))]\n",
    "        out = W_ho(hidden)\n",
    "    \n",
    "        loss = (out - t_value[data_i+1])**2.0\n",
    "        t_loss += loss\n",
    "        \n",
    "    t_loss.backward()\n",
    "    plt_loss.append(t_loss)\n",
    "\n",
    "    all_parameters = W_ih.parameters() + W_hh.parameters() + W_ho.parameters()\n",
    "    for p in all_parameters:\n",
    "        p.data = p.data - (0.001 * p.grad)\n"
   ]
  },
  {
   "cell_type": "code",
   "execution_count": 424,
   "id": "73d07f97-bbf6-40be-99ad-e4555b719590",
   "metadata": {},
   "outputs": [],
   "source": [
    "class Model: \n",
    "    def __init__(self):\n",
    "        self.W_ih = NLP(1, [5]) \n",
    "        self.W_hh = NLP(5, [5,5])\n",
    "        self.W_ho = NLP(5, [1])\n",
    "        \n",
    "    def forward():\n",
    "        self.hidden = [Value(random.uniform(-1, 1)) for _ in range(5)]\n",
    "        self.label, self.data = DataLoader()\n",
    "        \n",
    "\n",
    "    for i in range(20):\n",
    "        hidden =\n",
    "        self.t_loss = 0\n",
    "        # all_parameters = W_ih.parameters() + W_hh.parameters() + W_ho.parameters()\n",
    "        # for p in all_parameters:\n",
    "        #     p.data = p.data - (0.001 * p.grad)\n",
    "            \n",
    "        for data_i in range(len(t_value)-1):\n",
    "            mix_iw = W_ih([t_value[data_i]])\n",
    "            mix_hh = W_hh(hidden)\n",
    "            hidden = [mix_iw[i] + mix_hh[i] for i in range(len(mix_iw))]\n",
    "            out = W_ho(hidden)\n",
    "        \n",
    "            loss = (out - t_value[data_i+1])**2.0\n",
    "            t_loss += loss\n",
    "            \n",
    "        t_loss.backward()\n",
    "        plt_loss.append(t_loss)\n",
    "    \n",
    "        all_parameters = W_ih.parameters() + W_hh.parameters() + W_ho.parameters()\n",
    "        for p in all_parameters:\n",
    "            p.data = p.data - (0.001 * p.grad)\n",
    "\n",
    "    def zero_grad(self):\n",
    "        all_parameters = self.W_ih.parameters() + self.W_hh.parameters() + self.W_ho.parameters()\n",
    "        for p in all_parameters:\n",
    "                p.grad = 0 \n",
    "\n",
    "    def grad_calculate(self):\n",
    "        self.loss.backward()\n",
    "        \n",
    "    def update_grad(self):\n",
    "        all_parameters = self.W_ih.parameters() + self.W_hh.parameters() + self.W_ho.parameters()\n",
    "        for p in all_parameters:\n",
    "            p.data = p.data - (0.001 * p.grad)\n",
    "            \n",
    "        \n",
    "    \n",
    "    \n",
    "        "
   ]
  },
  {
   "cell_type": "code",
   "execution_count": 431,
   "id": "6dc30ec0-5e59-4dc2-ad73-c713db4b1799",
   "metadata": {},
   "outputs": [
    {
     "data": {
      "text/plain": [
       "[<matplotlib.lines.Line2D at 0x7b17804ae3c0>]"
      ]
     },
     "execution_count": 431,
     "metadata": {},
     "output_type": "execute_result"
    },
    {
     "data": {
      "image/png": "[encoded data removed]",
      "text/plain": [
       "<Figure size 640x480 with 1 Axes>"
      ]
     },
     "metadata": {},
     "output_type": "display_data"
    }
   ],
   "source": [
    "plt.plot(time, [data.data for data in plt_loss])"
   ]
  },
  {
   "cell_type": "code",
   "execution_count": 432,
   "id": "bc0f6b57-76c4-4e77-b550-1fb62333b255",
   "metadata": {},
   "outputs": [
    {
     "data": {
      "text/plain": [
       "[1.144241929077933,\n",
       " 0.9220937239864431,\n",
       " 1.1590883803726222,\n",
       " 0.8307278645132739,\n",
       " 0.8432944451554613]"
      ]
     },
     "execution_count": 432,
     "metadata": {},
     "output_type": "execute_result"
    }
   ],
   "source": [
    "t_value"
   ]
  },
  {
   "cell_type": "code",
   "execution_count": 434,
   "id": "735833a6-52c6-4e97-b361-2146d9d2d3e8",
   "metadata": {},
   "outputs": [
    {
     "data": {
      "text/plain": [
       "[760, 761, 762, 763, 764]"
      ]
     },
     "execution_count": 434,
     "metadata": {},
     "output_type": "execute_result"
    }
   ],
   "source": [
    "t_time"
   ]
  },
  {
   "cell_type": "code",
   "execution_count": 435,
   "id": "ba7aa0ea-3f45-4cc7-bc9f-5097353915f9",
   "metadata": {},
   "outputs": [
    {
     "data": {
      "text/plain": [
       "([340, 341, 342, 343, 344],\n",
       " [-0.25744144367547156,\n",
       "  -0.11440806718203506,\n",
       "  -0.39838518803255163,\n",
       "  -0.16868865637484998,\n",
       "  -0.3800909226957617])"
      ]
     },
     "execution_count": 435,
     "metadata": {},
     "output_type": "execute_result"
    }
   ],
   "source": [
    "t_label, t_data = DataLoader()\n"
   ]
  },
  {
   "cell_type": "code",
   "execution_count": null,
   "id": "45e7a530-eafb-49fa-a60b-87432fb4c66c",
   "metadata": {},
   "outputs": [],
   "source": [
    "math.sin"
   ]
  }
 ],
 "metadata": {
  "kernelspec": {
   "display_name": "Python 3 (ipykernel)",
   "language": "python",
   "name": "python3"
  },
  "language_info": {
   "codemirror_mode": {
    "name": "ipython",
    "version": 3
   },
   "file_extension": ".py",
   "mimetype": "text/x-python",
   "name": "python",
   "nbconvert_exporter": "python",
   "pygments_lexer": "ipython3",
   "version": "3.12.3"
  }
 },
 "nbformat": 4,
 "nbformat_minor": 5
}
